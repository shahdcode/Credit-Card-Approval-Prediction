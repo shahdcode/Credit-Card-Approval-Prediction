{
  "nbformat": 4,
  "nbformat_minor": 0,
  "metadata": {
    "colab": {
      "provenance": []
    },
    "kernelspec": {
      "name": "python3",
      "display_name": "Python 3"
    },
    "language_info": {
      "name": "python"
    }
  },
  "cells": [
    {
      "cell_type": "code",
      "execution_count": null,
      "metadata": {
        "id": "PMcV7y6fBNd7"
      },
      "outputs": [],
      "source": [
        "import pandas as pd\n",
        "import numpy as np\n",
        "import seaborn as sns\n",
        "import matplotlib.pyplot as plt"
      ]
    },
    {
      "cell_type": "code",
      "source": [
        "from google.colab import drive\n",
        "drive.mount('/content/drive')"
      ],
      "metadata": {
        "colab": {
          "base_uri": "https://localhost:8080/"
        },
        "id": "MaEaoXuqDENH",
        "outputId": "e682b24b-afa5-422f-c956-a60547c4e476"
      },
      "execution_count": null,
      "outputs": [
        {
          "output_type": "stream",
          "name": "stdout",
          "text": [
            "Mounted at /content/drive\n"
          ]
        }
      ]
    },
    {
      "cell_type": "code",
      "source": [
        "#read data\n",
        "credit_record = pd.read_csv('/content/drive/MyDrive/content/credit_record.csv')"
      ],
      "metadata": {
        "id": "tuuYg9qMDNVl"
      },
      "execution_count": null,
      "outputs": []
    },
    {
      "cell_type": "code",
      "source": [
        "credit_record.head()"
      ],
      "metadata": {
        "colab": {
          "base_uri": "https://localhost:8080/",
          "height": 206
        },
        "id": "0T21ZVa2D6pO",
        "outputId": "3deb2363-8d02-41ce-de08-32d07452b99c"
      },
      "execution_count": null,
      "outputs": [
        {
          "output_type": "execute_result",
          "data": {
            "text/plain": [
              "        ID  MONTHS_BALANCE STATUS\n",
              "0  5001711               0      X\n",
              "1  5001711              -1      0\n",
              "2  5001711              -2      0\n",
              "3  5001711              -3      0\n",
              "4  5001712               0      C"
            ],
            "text/html": [
              "\n",
              "  <div id=\"df-7951c06d-8921-4266-acd5-b0e778abe489\" class=\"colab-df-container\">\n",
              "    <div>\n",
              "<style scoped>\n",
              "    .dataframe tbody tr th:only-of-type {\n",
              "        vertical-align: middle;\n",
              "    }\n",
              "\n",
              "    .dataframe tbody tr th {\n",
              "        vertical-align: top;\n",
              "    }\n",
              "\n",
              "    .dataframe thead th {\n",
              "        text-align: right;\n",
              "    }\n",
              "</style>\n",
              "<table border=\"1\" class=\"dataframe\">\n",
              "  <thead>\n",
              "    <tr style=\"text-align: right;\">\n",
              "      <th></th>\n",
              "      <th>ID</th>\n",
              "      <th>MONTHS_BALANCE</th>\n",
              "      <th>STATUS</th>\n",
              "    </tr>\n",
              "  </thead>\n",
              "  <tbody>\n",
              "    <tr>\n",
              "      <th>0</th>\n",
              "      <td>5001711</td>\n",
              "      <td>0</td>\n",
              "      <td>X</td>\n",
              "    </tr>\n",
              "    <tr>\n",
              "      <th>1</th>\n",
              "      <td>5001711</td>\n",
              "      <td>-1</td>\n",
              "      <td>0</td>\n",
              "    </tr>\n",
              "    <tr>\n",
              "      <th>2</th>\n",
              "      <td>5001711</td>\n",
              "      <td>-2</td>\n",
              "      <td>0</td>\n",
              "    </tr>\n",
              "    <tr>\n",
              "      <th>3</th>\n",
              "      <td>5001711</td>\n",
              "      <td>-3</td>\n",
              "      <td>0</td>\n",
              "    </tr>\n",
              "    <tr>\n",
              "      <th>4</th>\n",
              "      <td>5001712</td>\n",
              "      <td>0</td>\n",
              "      <td>C</td>\n",
              "    </tr>\n",
              "  </tbody>\n",
              "</table>\n",
              "</div>\n",
              "    <div class=\"colab-df-buttons\">\n",
              "\n",
              "  <div class=\"colab-df-container\">\n",
              "    <button class=\"colab-df-convert\" onclick=\"convertToInteractive('df-7951c06d-8921-4266-acd5-b0e778abe489')\"\n",
              "            title=\"Convert this dataframe to an interactive table.\"\n",
              "            style=\"display:none;\">\n",
              "\n",
              "  <svg xmlns=\"http://www.w3.org/2000/svg\" height=\"24px\" viewBox=\"0 -960 960 960\">\n",
              "    <path d=\"M120-120v-720h720v720H120Zm60-500h600v-160H180v160Zm220 220h160v-160H400v160Zm0 220h160v-160H400v160ZM180-400h160v-160H180v160Zm440 0h160v-160H620v160ZM180-180h160v-160H180v160Zm440 0h160v-160H620v160Z\"/>\n",
              "  </svg>\n",
              "    </button>\n",
              "\n",
              "  <style>\n",
              "    .colab-df-container {\n",
              "      display:flex;\n",
              "      gap: 12px;\n",
              "    }\n",
              "\n",
              "    .colab-df-convert {\n",
              "      background-color: #E8F0FE;\n",
              "      border: none;\n",
              "      border-radius: 50%;\n",
              "      cursor: pointer;\n",
              "      display: none;\n",
              "      fill: #1967D2;\n",
              "      height: 32px;\n",
              "      padding: 0 0 0 0;\n",
              "      width: 32px;\n",
              "    }\n",
              "\n",
              "    .colab-df-convert:hover {\n",
              "      background-color: #E2EBFA;\n",
              "      box-shadow: 0px 1px 2px rgba(60, 64, 67, 0.3), 0px 1px 3px 1px rgba(60, 64, 67, 0.15);\n",
              "      fill: #174EA6;\n",
              "    }\n",
              "\n",
              "    .colab-df-buttons div {\n",
              "      margin-bottom: 4px;\n",
              "    }\n",
              "\n",
              "    [theme=dark] .colab-df-convert {\n",
              "      background-color: #3B4455;\n",
              "      fill: #D2E3FC;\n",
              "    }\n",
              "\n",
              "    [theme=dark] .colab-df-convert:hover {\n",
              "      background-color: #434B5C;\n",
              "      box-shadow: 0px 1px 3px 1px rgba(0, 0, 0, 0.15);\n",
              "      filter: drop-shadow(0px 1px 2px rgba(0, 0, 0, 0.3));\n",
              "      fill: #FFFFFF;\n",
              "    }\n",
              "  </style>\n",
              "\n",
              "    <script>\n",
              "      const buttonEl =\n",
              "        document.querySelector('#df-7951c06d-8921-4266-acd5-b0e778abe489 button.colab-df-convert');\n",
              "      buttonEl.style.display =\n",
              "        google.colab.kernel.accessAllowed ? 'block' : 'none';\n",
              "\n",
              "      async function convertToInteractive(key) {\n",
              "        const element = document.querySelector('#df-7951c06d-8921-4266-acd5-b0e778abe489');\n",
              "        const dataTable =\n",
              "          await google.colab.kernel.invokeFunction('convertToInteractive',\n",
              "                                                    [key], {});\n",
              "        if (!dataTable) return;\n",
              "\n",
              "        const docLinkHtml = 'Like what you see? Visit the ' +\n",
              "          '<a target=\"_blank\" href=https://colab.research.google.com/notebooks/data_table.ipynb>data table notebook</a>'\n",
              "          + ' to learn more about interactive tables.';\n",
              "        element.innerHTML = '';\n",
              "        dataTable['output_type'] = 'display_data';\n",
              "        await google.colab.output.renderOutput(dataTable, element);\n",
              "        const docLink = document.createElement('div');\n",
              "        docLink.innerHTML = docLinkHtml;\n",
              "        element.appendChild(docLink);\n",
              "      }\n",
              "    </script>\n",
              "  </div>\n",
              "\n",
              "\n",
              "<div id=\"df-7500e49e-9399-4e0b-9506-deba0761c99c\">\n",
              "  <button class=\"colab-df-quickchart\" onclick=\"quickchart('df-7500e49e-9399-4e0b-9506-deba0761c99c')\"\n",
              "            title=\"Suggest charts\"\n",
              "            style=\"display:none;\">\n",
              "\n",
              "<svg xmlns=\"http://www.w3.org/2000/svg\" height=\"24px\"viewBox=\"0 0 24 24\"\n",
              "     width=\"24px\">\n",
              "    <g>\n",
              "        <path d=\"M19 3H5c-1.1 0-2 .9-2 2v14c0 1.1.9 2 2 2h14c1.1 0 2-.9 2-2V5c0-1.1-.9-2-2-2zM9 17H7v-7h2v7zm4 0h-2V7h2v10zm4 0h-2v-4h2v4z\"/>\n",
              "    </g>\n",
              "</svg>\n",
              "  </button>\n",
              "\n",
              "<style>\n",
              "  .colab-df-quickchart {\n",
              "      --bg-color: #E8F0FE;\n",
              "      --fill-color: #1967D2;\n",
              "      --hover-bg-color: #E2EBFA;\n",
              "      --hover-fill-color: #174EA6;\n",
              "      --disabled-fill-color: #AAA;\n",
              "      --disabled-bg-color: #DDD;\n",
              "  }\n",
              "\n",
              "  [theme=dark] .colab-df-quickchart {\n",
              "      --bg-color: #3B4455;\n",
              "      --fill-color: #D2E3FC;\n",
              "      --hover-bg-color: #434B5C;\n",
              "      --hover-fill-color: #FFFFFF;\n",
              "      --disabled-bg-color: #3B4455;\n",
              "      --disabled-fill-color: #666;\n",
              "  }\n",
              "\n",
              "  .colab-df-quickchart {\n",
              "    background-color: var(--bg-color);\n",
              "    border: none;\n",
              "    border-radius: 50%;\n",
              "    cursor: pointer;\n",
              "    display: none;\n",
              "    fill: var(--fill-color);\n",
              "    height: 32px;\n",
              "    padding: 0;\n",
              "    width: 32px;\n",
              "  }\n",
              "\n",
              "  .colab-df-quickchart:hover {\n",
              "    background-color: var(--hover-bg-color);\n",
              "    box-shadow: 0 1px 2px rgba(60, 64, 67, 0.3), 0 1px 3px 1px rgba(60, 64, 67, 0.15);\n",
              "    fill: var(--button-hover-fill-color);\n",
              "  }\n",
              "\n",
              "  .colab-df-quickchart-complete:disabled,\n",
              "  .colab-df-quickchart-complete:disabled:hover {\n",
              "    background-color: var(--disabled-bg-color);\n",
              "    fill: var(--disabled-fill-color);\n",
              "    box-shadow: none;\n",
              "  }\n",
              "\n",
              "  .colab-df-spinner {\n",
              "    border: 2px solid var(--fill-color);\n",
              "    border-color: transparent;\n",
              "    border-bottom-color: var(--fill-color);\n",
              "    animation:\n",
              "      spin 1s steps(1) infinite;\n",
              "  }\n",
              "\n",
              "  @keyframes spin {\n",
              "    0% {\n",
              "      border-color: transparent;\n",
              "      border-bottom-color: var(--fill-color);\n",
              "      border-left-color: var(--fill-color);\n",
              "    }\n",
              "    20% {\n",
              "      border-color: transparent;\n",
              "      border-left-color: var(--fill-color);\n",
              "      border-top-color: var(--fill-color);\n",
              "    }\n",
              "    30% {\n",
              "      border-color: transparent;\n",
              "      border-left-color: var(--fill-color);\n",
              "      border-top-color: var(--fill-color);\n",
              "      border-right-color: var(--fill-color);\n",
              "    }\n",
              "    40% {\n",
              "      border-color: transparent;\n",
              "      border-right-color: var(--fill-color);\n",
              "      border-top-color: var(--fill-color);\n",
              "    }\n",
              "    60% {\n",
              "      border-color: transparent;\n",
              "      border-right-color: var(--fill-color);\n",
              "    }\n",
              "    80% {\n",
              "      border-color: transparent;\n",
              "      border-right-color: var(--fill-color);\n",
              "      border-bottom-color: var(--fill-color);\n",
              "    }\n",
              "    90% {\n",
              "      border-color: transparent;\n",
              "      border-bottom-color: var(--fill-color);\n",
              "    }\n",
              "  }\n",
              "</style>\n",
              "\n",
              "  <script>\n",
              "    async function quickchart(key) {\n",
              "      const quickchartButtonEl =\n",
              "        document.querySelector('#' + key + ' button');\n",
              "      quickchartButtonEl.disabled = true;  // To prevent multiple clicks.\n",
              "      quickchartButtonEl.classList.add('colab-df-spinner');\n",
              "      try {\n",
              "        const charts = await google.colab.kernel.invokeFunction(\n",
              "            'suggestCharts', [key], {});\n",
              "      } catch (error) {\n",
              "        console.error('Error during call to suggestCharts:', error);\n",
              "      }\n",
              "      quickchartButtonEl.classList.remove('colab-df-spinner');\n",
              "      quickchartButtonEl.classList.add('colab-df-quickchart-complete');\n",
              "    }\n",
              "    (() => {\n",
              "      let quickchartButtonEl =\n",
              "        document.querySelector('#df-7500e49e-9399-4e0b-9506-deba0761c99c button');\n",
              "      quickchartButtonEl.style.display =\n",
              "        google.colab.kernel.accessAllowed ? 'block' : 'none';\n",
              "    })();\n",
              "  </script>\n",
              "</div>\n",
              "\n",
              "    </div>\n",
              "  </div>\n"
            ],
            "application/vnd.google.colaboratory.intrinsic+json": {
              "type": "dataframe",
              "variable_name": "credit_record"
            }
          },
          "metadata": {},
          "execution_count": 15
        }
      ]
    },
    {
      "cell_type": "code",
      "source": [
        "credit_record.shape"
      ],
      "metadata": {
        "colab": {
          "base_uri": "https://localhost:8080/"
        },
        "id": "NTcGsEHlEpxE",
        "outputId": "a1559b93-136a-4f60-cb79-c5105c4d019e"
      },
      "execution_count": null,
      "outputs": [
        {
          "output_type": "execute_result",
          "data": {
            "text/plain": [
              "(1048575, 3)"
            ]
          },
          "metadata": {},
          "execution_count": 16
        }
      ]
    },
    {
      "cell_type": "code",
      "source": [
        "credit_record.info()"
      ],
      "metadata": {
        "colab": {
          "base_uri": "https://localhost:8080/"
        },
        "id": "nWnNINvLEunN",
        "outputId": "dc9f6ceb-b589-4cc0-c64e-ce6d20000bb4"
      },
      "execution_count": null,
      "outputs": [
        {
          "output_type": "stream",
          "name": "stdout",
          "text": [
            "<class 'pandas.core.frame.DataFrame'>\n",
            "RangeIndex: 1048575 entries, 0 to 1048574\n",
            "Data columns (total 3 columns):\n",
            " #   Column          Non-Null Count    Dtype \n",
            "---  ------          --------------    ----- \n",
            " 0   ID              1048575 non-null  int64 \n",
            " 1   MONTHS_BALANCE  1048575 non-null  int64 \n",
            " 2   STATUS          1048575 non-null  object\n",
            "dtypes: int64(2), object(1)\n",
            "memory usage: 24.0+ MB\n"
          ]
        }
      ]
    },
    {
      "cell_type": "code",
      "source": [
        "credit_record.isnull().sum()"
      ],
      "metadata": {
        "colab": {
          "base_uri": "https://localhost:8080/",
          "height": 178
        },
        "id": "4AxTt_CsE1B0",
        "outputId": "5777d24b-7779-4371-dfc8-f00663ede1d7"
      },
      "execution_count": null,
      "outputs": [
        {
          "output_type": "execute_result",
          "data": {
            "text/plain": [
              "ID                0\n",
              "MONTHS_BALANCE    0\n",
              "STATUS            0\n",
              "dtype: int64"
            ],
            "text/html": [
              "<div>\n",
              "<style scoped>\n",
              "    .dataframe tbody tr th:only-of-type {\n",
              "        vertical-align: middle;\n",
              "    }\n",
              "\n",
              "    .dataframe tbody tr th {\n",
              "        vertical-align: top;\n",
              "    }\n",
              "\n",
              "    .dataframe thead th {\n",
              "        text-align: right;\n",
              "    }\n",
              "</style>\n",
              "<table border=\"1\" class=\"dataframe\">\n",
              "  <thead>\n",
              "    <tr style=\"text-align: right;\">\n",
              "      <th></th>\n",
              "      <th>0</th>\n",
              "    </tr>\n",
              "  </thead>\n",
              "  <tbody>\n",
              "    <tr>\n",
              "      <th>ID</th>\n",
              "      <td>0</td>\n",
              "    </tr>\n",
              "    <tr>\n",
              "      <th>MONTHS_BALANCE</th>\n",
              "      <td>0</td>\n",
              "    </tr>\n",
              "    <tr>\n",
              "      <th>STATUS</th>\n",
              "      <td>0</td>\n",
              "    </tr>\n",
              "  </tbody>\n",
              "</table>\n",
              "</div><br><label><b>dtype:</b> int64</label>"
            ]
          },
          "metadata": {},
          "execution_count": 18
        }
      ]
    },
    {
      "cell_type": "code",
      "source": [
        "# Count the number of unique values in each column\n",
        "unique_counts = credit_record.nunique()\n",
        "print(unique_counts)"
      ],
      "metadata": {
        "colab": {
          "base_uri": "https://localhost:8080/"
        },
        "id": "2pBNDN6HE-N-",
        "outputId": "165fdba6-ba56-4ead-e337-ed0ff126d290"
      },
      "execution_count": null,
      "outputs": [
        {
          "output_type": "stream",
          "name": "stdout",
          "text": [
            "ID                45985\n",
            "MONTHS_BALANCE       61\n",
            "STATUS                8\n",
            "dtype: int64\n"
          ]
        }
      ]
    },
    {
      "cell_type": "code",
      "source": [
        "credit_record.duplicated().sum()"
      ],
      "metadata": {
        "colab": {
          "base_uri": "https://localhost:8080/"
        },
        "id": "Du_gi5pNFX-R",
        "outputId": "c1a52925-0f55-4a99-fece-bc71102a11fa"
      },
      "execution_count": null,
      "outputs": [
        {
          "output_type": "execute_result",
          "data": {
            "text/plain": [
              "0"
            ]
          },
          "metadata": {},
          "execution_count": 20
        }
      ]
    },
    {
      "cell_type": "code",
      "source": [
        "print(credit_record.describe())\n"
      ],
      "metadata": {
        "colab": {
          "base_uri": "https://localhost:8080/"
        },
        "id": "TvPrr0T8F5gl",
        "outputId": "2492527c-8e8e-485c-a13f-795e5833fe60"
      },
      "execution_count": null,
      "outputs": [
        {
          "output_type": "stream",
          "name": "stdout",
          "text": [
            "                 ID  MONTHS_BALANCE\n",
            "count  1.048575e+06    1.048575e+06\n",
            "mean   5.068286e+06   -1.913700e+01\n",
            "std    4.615058e+04    1.402350e+01\n",
            "min    5.001711e+06   -6.000000e+01\n",
            "25%    5.023644e+06   -2.900000e+01\n",
            "50%    5.062104e+06   -1.700000e+01\n",
            "75%    5.113856e+06   -7.000000e+00\n",
            "max    5.150487e+06    0.000000e+00\n"
          ]
        }
      ]
    },
    {
      "cell_type": "code",
      "source": [
        "credit_record.info()\n"
      ],
      "metadata": {
        "colab": {
          "base_uri": "https://localhost:8080/"
        },
        "id": "44lVxeN9HTUz",
        "outputId": "4a3a2fb0-bd77-4aa1-a10f-b68fe7788efa"
      },
      "execution_count": null,
      "outputs": [
        {
          "output_type": "stream",
          "name": "stdout",
          "text": [
            "<class 'pandas.core.frame.DataFrame'>\n",
            "RangeIndex: 1048575 entries, 0 to 1048574\n",
            "Data columns (total 3 columns):\n",
            " #   Column          Non-Null Count    Dtype \n",
            "---  ------          --------------    ----- \n",
            " 0   ID              1048575 non-null  int64 \n",
            " 1   MONTHS_BALANCE  1048575 non-null  int64 \n",
            " 2   STATUS          1048575 non-null  object\n",
            "dtypes: int64(2), object(1)\n",
            "memory usage: 24.0+ MB\n"
          ]
        }
      ]
    },
    {
      "cell_type": "code",
      "source": [
        "import matplotlib.pyplot as plt\n",
        "#Negative MONTHS_BALANCE values indicate how many months ago an event occurred.\n",
        "\n",
        "credit_record.hist(bins=50, figsize=(15, 10))\n",
        "plt.show()"
      ],
      "metadata": {
        "colab": {
          "base_uri": "https://localhost:8080/",
          "height": 871
        },
        "id": "Jl8scb-KHZug",
        "outputId": "fa223f99-fd4f-43f2-f897-454831762b38"
      },
      "execution_count": null,
      "outputs": [
        {
          "output_type": "display_data",
          "data": {
            "text/plain": [
              "<Figure size 1500x1000 with 2 Axes>"
            ],
            "image/png": "[encoded data removed]"
          },
          "metadata": {}
        }
      ]
    },
    {
      "cell_type": "code",
      "source": [
        "import seaborn as sns\n",
        "\n",
        "sns.countplot(data=credit_record, x='STATUS')\n",
        "plt.show()\n"
      ],
      "metadata": {
        "colab": {
          "base_uri": "https://localhost:8080/",
          "height": 449
        },
        "id": "6_4m2_lYHgDv",
        "outputId": "b8a8fd0f-f66b-4d71-98c0-6219b82cf734"
      },
      "execution_count": null,
      "outputs": [
        {
          "output_type": "display_data",
          "data": {
            "text/plain": [
              "<Figure size 640x480 with 1 Axes>"
            ],
            "image/png": "[encoded data removed]"
          },
          "metadata": {}
        }
      ]
    },
    {
      "cell_type": "code",
      "source": [
        "sns.boxplot(data=credit_record, x='MONTHS_BALANCE')\n",
        "plt.show()\n"
      ],
      "metadata": {
        "colab": {
          "base_uri": "https://localhost:8080/",
          "height": 449
        },
        "id": "N3qKGBTfH6CN",
        "outputId": "3b507bd6-02bc-4fe8-c154-878523484303"
      },
      "execution_count": null,
      "outputs": [
        {
          "output_type": "display_data",
          "data": {
            "text/plain": [
              "<Figure size 640x480 with 1 Axes>"
            ],
            "image/png": "[encoded data removed]"
          },
          "metadata": {}
        }
      ]
    },
    {
      "cell_type": "code",
      "source": [
        "valid_categories = ['C', 'X', 'O','1','2','3','4','5']\n",
        "credit_record = credit_record[credit_record['STATUS'].isin(valid_categories)]\n"
      ],
      "metadata": {
        "id": "LcrlMvFPIIev"
      },
      "execution_count": null,
      "outputs": []
    },
    {
      "cell_type": "code",
      "source": [
        "# Check unique values in column_name after filtering\n",
        "print(credit_record['STATUS'].unique())\n"
      ],
      "metadata": {
        "colab": {
          "base_uri": "https://localhost:8080/"
        },
        "id": "mpVg5CaKJeT_",
        "outputId": "ab53dfa1-bb23-4d68-d019-87cc621f4630"
      },
      "execution_count": null,
      "outputs": [
        {
          "output_type": "stream",
          "name": "stdout",
          "text": [
            "['X' 'C' '1' '2' '3' '4' '5']\n"
          ]
        }
      ]
    },
    {
      "cell_type": "code",
      "source": [
        "print(credit_record.info())\n",
        "print(credit_record.describe())\n"
      ],
      "metadata": {
        "colab": {
          "base_uri": "https://localhost:8080/"
        },
        "id": "PZhuDID2JvXk",
        "outputId": "cd29e299-b5ff-42b6-82f1-9c0d99209d1a"
      },
      "execution_count": null,
      "outputs": [
        {
          "output_type": "stream",
          "name": "stdout",
          "text": [
            "<class 'pandas.core.frame.DataFrame'>\n",
            "Index: 665455 entries, 0 to 1048574\n",
            "Data columns (total 3 columns):\n",
            " #   Column          Non-Null Count   Dtype \n",
            "---  ------          --------------   ----- \n",
            " 0   ID              665455 non-null  int64 \n",
            " 1   MONTHS_BALANCE  665455 non-null  int64 \n",
            " 2   STATUS          665455 non-null  object\n",
            "dtypes: int64(2), object(1)\n",
            "memory usage: 20.3+ MB\n",
            "None\n",
            "                 ID  MONTHS_BALANCE\n",
            "count  6.654550e+05   665455.000000\n",
            "mean   5.068220e+06      -17.575490\n",
            "std    4.632171e+04       13.149768\n",
            "min    5.001711e+06      -60.000000\n",
            "25%    5.023323e+06      -26.000000\n",
            "50%    5.062034e+06      -15.000000\n",
            "75%    5.113869e+06       -7.000000\n",
            "max    5.150487e+06        0.000000\n"
          ]
        }
      ]
    },
    {
      "cell_type": "code",
      "source": [
        "print(credit_record['ID'].duplicated().sum())\n"
      ],
      "metadata": {
        "colab": {
          "base_uri": "https://localhost:8080/"
        },
        "id": "rpuaVSBjKHnA",
        "outputId": "249b5e44-dd9a-4704-a883-2cc5dde2d535"
      },
      "execution_count": null,
      "outputs": [
        {
          "output_type": "stream",
          "name": "stdout",
          "text": [
            "624631\n"
          ]
        }
      ]
    },
    {
      "cell_type": "code",
      "source": [
        "# Check a sample of duplicate IDs to understand the data\n",
        "duplicate_sample = credit_record[credit_record['ID'].duplicated(keep=False)]\n",
        "print(duplicate_sample.head(20))\n"
      ],
      "metadata": {
        "colab": {
          "base_uri": "https://localhost:8080/"
        },
        "id": "rKlvOEjcLwFS",
        "outputId": "a373aa37-5536-4254-c334-a9321da3c03e"
      },
      "execution_count": null,
      "outputs": [
        {
          "output_type": "stream",
          "name": "stdout",
          "text": [
            "         ID  MONTHS_BALANCE STATUS\n",
            "4   5001712               0      C\n",
            "5   5001712              -1      C\n",
            "6   5001712              -2      C\n",
            "7   5001712              -3      C\n",
            "8   5001712              -4      C\n",
            "9   5001712              -5      C\n",
            "10  5001712              -6      C\n",
            "11  5001712              -7      C\n",
            "12  5001712              -8      C\n",
            "23  5001713               0      X\n",
            "24  5001713              -1      X\n",
            "25  5001713              -2      X\n",
            "26  5001713              -3      X\n",
            "27  5001713              -4      X\n",
            "28  5001713              -5      X\n",
            "29  5001713              -6      X\n",
            "30  5001713              -7      X\n",
            "31  5001713              -8      X\n",
            "32  5001713              -9      X\n",
            "33  5001713             -10      X\n"
          ]
        }
      ]
    },
    {
      "cell_type": "code",
      "source": [
        "# Define a function to summarize the statuses for each ID\n",
        "def summarize_status(statuses):\n",
        "    if any(s in ['0', '1', '2', '3', '4', '5'] for s in statuses):\n",
        "        return 1  # Not Approved\n",
        "    else:\n",
        "        return 0  # Approved\n",
        "\n",
        "# Group by ID and summarize STATUS\n",
        "credit_record_summary = credit_record.groupby('ID').agg({\n",
        "    'STATUS': summarize_status\n",
        "}).reset_index()\n",
        "\n",
        "print(credit_record_summary.head())\n"
      ],
      "metadata": {
        "colab": {
          "base_uri": "https://localhost:8080/"
        },
        "id": "k2rOb83cNCmE",
        "outputId": "cb70540d-8a9d-488c-f99e-9fada55c4098"
      },
      "execution_count": null,
      "outputs": [
        {
          "output_type": "stream",
          "name": "stdout",
          "text": [
            "        ID  STATUS\n",
            "0  5001711       0\n",
            "1  5001712       0\n",
            "2  5001713       0\n",
            "3  5001714       0\n",
            "4  5001715       0\n"
          ]
        }
      ]
    },
    {
      "cell_type": "code",
      "source": [
        "# Check a sample of duplicate IDs to understand the data\n",
        "duplicate_sample = credit_record[credit_record['ID'].duplicated(keep=False)]\n",
        "print(duplicate_sample.head(20))\n"
      ],
      "metadata": {
        "colab": {
          "base_uri": "https://localhost:8080/"
        },
        "id": "Llylvq1FNiUu",
        "outputId": "a9d87854-4d4e-41c7-8e1a-0f873d553ae4"
      },
      "execution_count": null,
      "outputs": [
        {
          "output_type": "stream",
          "name": "stdout",
          "text": [
            "         ID  MONTHS_BALANCE STATUS\n",
            "4   5001712               0      C\n",
            "5   5001712              -1      C\n",
            "6   5001712              -2      C\n",
            "7   5001712              -3      C\n",
            "8   5001712              -4      C\n",
            "9   5001712              -5      C\n",
            "10  5001712              -6      C\n",
            "11  5001712              -7      C\n",
            "12  5001712              -8      C\n",
            "23  5001713               0      X\n",
            "24  5001713              -1      X\n",
            "25  5001713              -2      X\n",
            "26  5001713              -3      X\n",
            "27  5001713              -4      X\n",
            "28  5001713              -5      X\n",
            "29  5001713              -6      X\n",
            "30  5001713              -7      X\n",
            "31  5001713              -8      X\n",
            "32  5001713              -9      X\n",
            "33  5001713             -10      X\n"
          ]
        }
      ]
    },
    {
      "cell_type": "code",
      "source": [
        "print(credit_record['STATUS'].unique())\n"
      ],
      "metadata": {
        "colab": {
          "base_uri": "https://localhost:8080/"
        },
        "id": "8Caf8VgWOrA1",
        "outputId": "b63bd5fa-2ca9-41ad-d712-25ec6e9783de"
      },
      "execution_count": null,
      "outputs": [
        {
          "output_type": "stream",
          "name": "stdout",
          "text": [
            "['X' 'C' '1' '2' '3' '4' '5']\n"
          ]
        }
      ]
    },
    {
      "cell_type": "code",
      "source": [
        "# Sort by ID and MONTHS_BALANCE in descending order to get the latest months first\n",
        "credit_record = credit_record.sort_values(by=['ID', 'MONTHS_BALANCE'], ascending=[True, False])\n",
        "\n",
        "# Drop duplicate IDs while keeping the most recent entry\n",
        "credit_record = credit_record.drop_duplicates(subset='ID', keep='first')\n",
        "\n",
        "print(credit_record.head())\n"
      ],
      "metadata": {
        "colab": {
          "base_uri": "https://localhost:8080/"
        },
        "id": "ICXAny-SSQm5",
        "outputId": "4a4ec9f8-1f5e-414d-c7af-21a77f2714fd"
      },
      "execution_count": null,
      "outputs": [
        {
          "output_type": "stream",
          "name": "stdout",
          "text": [
            "         ID  MONTHS_BALANCE STATUS\n",
            "0   5001711               0      X\n",
            "4   5001712               0      C\n",
            "23  5001713               0      X\n",
            "45  5001714               0      X\n",
            "60  5001715               0      X\n"
          ]
        }
      ]
    },
    {
      "cell_type": "code",
      "source": [
        "print(credit_record['ID'].duplicated().sum())\n"
      ],
      "metadata": {
        "colab": {
          "base_uri": "https://localhost:8080/"
        },
        "id": "hY8ZkSYYSeng",
        "outputId": "5d029d42-bbe6-486c-b24b-45ed3100cb95"
      },
      "execution_count": null,
      "outputs": [
        {
          "output_type": "stream",
          "name": "stdout",
          "text": [
            "0\n"
          ]
        }
      ]
    },
    {
      "cell_type": "code",
      "source": [
        "print(credit_record.info())\n",
        "print(credit_record.describe())\n"
      ],
      "metadata": {
        "colab": {
          "base_uri": "https://localhost:8080/"
        },
        "id": "lOVuSSavSvGS",
        "outputId": "609f8583-c0c8-4912-a62a-c1206bafb14a"
      },
      "execution_count": null,
      "outputs": [
        {
          "output_type": "stream",
          "name": "stdout",
          "text": [
            "<class 'pandas.core.frame.DataFrame'>\n",
            "Index: 40824 entries, 0 to 1048545\n",
            "Data columns (total 3 columns):\n",
            " #   Column          Non-Null Count  Dtype \n",
            "---  ------          --------------  ----- \n",
            " 0   ID              40824 non-null  int64 \n",
            " 1   MONTHS_BALANCE  40824 non-null  int64 \n",
            " 2   STATUS          40824 non-null  object\n",
            "dtypes: int64(2), object(1)\n",
            "memory usage: 1.2+ MB\n",
            "None\n",
            "                 ID  MONTHS_BALANCE\n",
            "count  4.082400e+04    40824.000000\n",
            "mean   5.069850e+06       -5.912845\n",
            "std    4.547569e+04       11.079561\n",
            "min    5.001711e+06      -60.000000\n",
            "25%    5.025759e+06       -7.000000\n",
            "50%    5.065554e+06        0.000000\n",
            "75%    5.113966e+06        0.000000\n",
            "max    5.150487e+06        0.000000\n"
          ]
        }
      ]
    },
    {
      "cell_type": "code",
      "source": [
        "import matplotlib.pyplot as plt\n",
        "#Negative MONTHS_BALANCE values indicate how many months ago an event occurred.\n",
        "\n",
        "credit_record.hist(bins=50, figsize=(15, 10))\n",
        "plt.show()"
      ],
      "metadata": {
        "colab": {
          "base_uri": "https://localhost:8080/",
          "height": 871
        },
        "id": "qYiik7SDTVa9",
        "outputId": "a255e0bd-951d-4bdc-be45-b352f8c73d56"
      },
      "execution_count": null,
      "outputs": [
        {
          "output_type": "display_data",
          "data": {
            "text/plain": [
              "<Figure size 1500x1000 with 2 Axes>"
            ],
            "image/png": "[encoded data removed]"
          },
          "metadata": {}
        }
      ]
    },
    {
      "cell_type": "code",
      "source": [
        "# Group by ID and check if all rows have a unique STATUS\n",
        "status_check = credit_record.groupby('ID')['STATUS'].nunique().reset_index()\n",
        "status_check.rename(columns={'STATUS': 'unique_status_count'}, inplace=True)\n",
        "\n",
        "print(status_check)\n"
      ],
      "metadata": {
        "colab": {
          "base_uri": "https://localhost:8080/"
        },
        "id": "vs-HoqTAUvxe",
        "outputId": "f0dbdc3b-f1c3-4613-95f3-537ac2f1d39a"
      },
      "execution_count": null,
      "outputs": [
        {
          "output_type": "stream",
          "name": "stdout",
          "text": [
            "            ID  unique_status_count\n",
            "0      5001711                    1\n",
            "1      5001712                    1\n",
            "2      5001713                    1\n",
            "3      5001714                    1\n",
            "4      5001715                    1\n",
            "...        ...                  ...\n",
            "40819  5150481                    1\n",
            "40820  5150482                    1\n",
            "40821  5150483                    1\n",
            "40822  5150484                    1\n",
            "40823  5150487                    1\n",
            "\n",
            "[40824 rows x 2 columns]\n"
          ]
        }
      ]
    },
    {
      "cell_type": "code",
      "source": [
        "print(credit_record.info())\n",
        "print(credit_record.describe())\n"
      ],
      "metadata": {
        "colab": {
          "base_uri": "https://localhost:8080/"
        },
        "id": "fpwd1srDVFZ6",
        "outputId": "a7cf169b-af14-4686-b1ef-9b3b9b87b741"
      },
      "execution_count": null,
      "outputs": [
        {
          "output_type": "stream",
          "name": "stdout",
          "text": [
            "<class 'pandas.core.frame.DataFrame'>\n",
            "Index: 40824 entries, 0 to 1048545\n",
            "Data columns (total 3 columns):\n",
            " #   Column          Non-Null Count  Dtype \n",
            "---  ------          --------------  ----- \n",
            " 0   ID              40824 non-null  int64 \n",
            " 1   MONTHS_BALANCE  40824 non-null  int64 \n",
            " 2   STATUS          40824 non-null  object\n",
            "dtypes: int64(2), object(1)\n",
            "memory usage: 1.2+ MB\n",
            "None\n",
            "                 ID  MONTHS_BALANCE\n",
            "count  4.082400e+04    40824.000000\n",
            "mean   5.069850e+06       -5.912845\n",
            "std    4.547569e+04       11.079561\n",
            "min    5.001711e+06      -60.000000\n",
            "25%    5.025759e+06       -7.000000\n",
            "50%    5.065554e+06        0.000000\n",
            "75%    5.113966e+06        0.000000\n",
            "max    5.150487e+06        0.000000\n"
          ]
        }
      ]
    },
    {
      "cell_type": "code",
      "source": [
        "# Check for duplicates in the dataset\n",
        "num_duplicates = credit_record.duplicated().sum()\n",
        "print(f\"Number of duplicate rows: {num_duplicates}\")\n"
      ],
      "metadata": {
        "colab": {
          "base_uri": "https://localhost:8080/"
        },
        "id": "CULKOVAZh1e7",
        "outputId": "c7ec61a9-c3a4-4c2f-87d5-5fecb2839409"
      },
      "execution_count": 69,
      "outputs": [
        {
          "output_type": "stream",
          "name": "stdout",
          "text": [
            "Number of duplicate rows: 0\n"
          ]
        }
      ]
    }
  ]
}
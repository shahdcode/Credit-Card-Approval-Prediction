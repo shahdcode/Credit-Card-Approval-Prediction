{
  "nbformat": 4,
  "nbformat_minor": 0,
  "metadata": {
    "colab": {
      "provenance": [],
      "authorship_tag": "ABX9TyOKdUNXA94Dw3/fookXD6+f",
      "include_colab_link": true
    },
    "kernelspec": {
      "name": "python3",
      "display_name": "Python 3"
    },
    "language_info": {
      "name": "python"
    }
  },
  "cells": [
    {
      "cell_type": "markdown",
      "metadata": {
        "id": "view-in-github",
        "colab_type": "text"
      },
      "source": [
        "<a href=\"https://colab.research.google.com/github/shahdcode/Credit-Card-Approval-Prediction/blob/main/DT_and_MLP_Model.ipynb\" target=\"_parent\"><img src=\"https://colab.research.google.com/assets/colab-badge.svg\" alt=\"Open In Colab\"/></a>"
      ]
    },
    {
      "cell_type": "code",
      "execution_count": 27,
      "metadata": {
        "colab": {
          "base_uri": "https://localhost:8080/"
        },
        "id": "SgrXba4ziNbY",
        "outputId": "8286d04e-f4da-4a4e-85e7-9f38e676abfb"
      },
      "outputs": [
        {
          "output_type": "stream",
          "name": "stdout",
          "text": [
            "Drive already mounted at /content/drive; to attempt to forcibly remount, call drive.mount(\"/content/drive\", force_remount=True).\n"
          ]
        }
      ],
      "source": [
        "import pandas as pd\n",
        "import numpy as np\n",
        "import seaborn as sns\n",
        "import matplotlib.pyplot as plt\n",
        "import tensorflow as tf\n",
        "import os\n",
        "\n",
        "from sklearn.model_selection import train_test_split, GridSearchCV\n",
        "from sklearn.tree import DecisionTreeClassifier\n",
        "from sklearn.metrics import accuracy_score\n",
        "\n",
        "from google.colab import files\n",
        "from google.colab import drive\n",
        "from sklearn.model_selection import train_test_split\n",
        "drive.mount('/content/drive')"
      ]
    },
    {
      "cell_type": "code",
      "source": [
        "train_df = pd.read_csv('/content/drive/MyDrive/Ai project/train_scaled.csv')\n",
        "val_df = pd.read_csv('/content/drive/MyDrive/Ai project/validation_scaled.csv')\n",
        "test_df = pd.read_csv('/content/drive/MyDrive/Ai project/test_scaled.csv')\n",
        "\n",
        "\n",
        "# Separate features and target\n",
        "X_train = train_df.drop(columns=['status_mapped'])\n",
        "y_train = train_df['status_mapped']\n",
        "\n",
        "X_val = val_df.drop(columns=['status_mapped'])\n",
        "y_val = val_df['status_mapped']\n",
        "\n",
        "X_test = test_df.drop(columns=['status_mapped'])\n",
        "y_test = test_df['status_mapped']\n"
      ],
      "metadata": {
        "id": "9KCfyKC0khTD"
      },
      "execution_count": 14,
      "outputs": []
    },
    {
      "cell_type": "markdown",
      "source": [
        "# Decision Tree Model with Grid Search"
      ],
      "metadata": {
        "id": "G_WWaOp-rKTm"
      }
    },
    {
      "cell_type": "code",
      "source": [
        "# Define the parameter grid for tuning\n",
        "param_grid = {\n",
        "    'criterion': ['gini', 'entropy'],            # Quality of split\n",
        "    'max_depth': [3, 5, 7, None],                # Maximum depth of the tree\n",
        "    'min_samples_split': [2, 5, 10],            # Minimum samples required to split\n",
        "    'min_samples_leaf': [1, 3, 5],              # Minimum samples in a leaf node\n",
        "    'max_features': [None, 'sqrt', 'log2']      # Features considered for the best split\n",
        "}\n",
        "\n",
        "# Create the Decision Tree classifier\n",
        "dt_model = DecisionTreeClassifier(random_state=42)\n",
        "\n",
        "# Apply Grid Search\n",
        "grid_search = GridSearchCV(estimator=dt_model, param_grid=param_grid, cv=5, scoring='accuracy', n_jobs=-1, verbose=1)\n",
        "grid_search.fit(X_train, y_train)\n",
        "\n",
        "# Get the best parameters and train final model\n",
        "best_params = grid_search.best_params_\n",
        "best_model = grid_search.best_estimator_\n",
        "\n",
        "# Validate and test the best model\n",
        "train_score = accuracy_score(y_train, best_model.predict(X_train))\n",
        "val_score = accuracy_score(y_val, best_model.predict(X_val))\n",
        "test_score = accuracy_score(y_test, best_model.predict(X_test))\n",
        "\n",
        "print(f\"Best Parameters: {best_params}\")\n",
        "print(f\"Training Accuracy: {train_score}\")\n",
        "print(f\"Validation Accuracy: {val_score}\")\n",
        "print(f\"Testing Accuracy: {test_score}\")"
      ],
      "metadata": {
        "colab": {
          "base_uri": "https://localhost:8080/"
        },
        "id": "riVn2TVXrOrh",
        "outputId": "cdc7a288-5d34-499a-e266-e0059b6ab339"
      },
      "execution_count": 6,
      "outputs": [
        {
          "output_type": "stream",
          "name": "stdout",
          "text": [
            "Fitting 5 folds for each of 216 candidates, totalling 1080 fits\n",
            "Best Parameters: {'criterion': 'entropy', 'max_depth': 5, 'max_features': 'sqrt', 'min_samples_leaf': 3, 'min_samples_split': 2}\n",
            "Training Accuracy: 0.9503152473137377\n",
            "Validation Accuracy: 0.9500621632822213\n",
            "Testing Accuracy: 0.9498653407913819\n"
          ]
        }
      ]
    },
    {
      "cell_type": "markdown",
      "source": [
        "# MPL Model"
      ],
      "metadata": {
        "id": "qq-vcFk7sEa0"
      }
    },
    {
      "cell_type": "code",
      "source": [
        "X_train = tf.keras.utils.normalize(X_train , axis =1)\n",
        "x_val = tf.keras.utils.normalize(X_val, axis=1)\n",
        "x_test = tf.keras.utils.normalize(X_test, axis=1)\n",
        "\n",
        "# Define the MLP model\n",
        "model = tf.keras.models.Sequential()\n",
        "model.add(tf.keras.layers.Dense(128, activation='sigmoid', input_shape=(X_train.shape[1],)))  # Input layer\n",
        "model.add(tf.keras.layers.Dense(64, activation='sigmoid'))                                   # Hidden layer\n",
        "model.add(tf.keras.layers.Dense(10, activation='softmax'))                                   # Output layer (multi-class)\n",
        "\n",
        "# Compile the model\n",
        "model.compile(optimizer='adam',\n",
        "              loss='sparse_categorical_crossentropy',\n",
        "              metrics=['accuracy'])\n",
        "\n",
        "# Train the model\n",
        "history = model.fit(X_train, y_train, validation_data=(X_val, y_val), epochs=3)\n",
        "\n",
        "\n"
      ],
      "metadata": {
        "colab": {
          "base_uri": "https://localhost:8080/"
        },
        "id": "dHttgG9fsJBb",
        "outputId": "99f00c02-e885-4f0d-dc63-af83da772627"
      },
      "execution_count": 30,
      "outputs": [
        {
          "output_type": "stream",
          "name": "stdout",
          "text": [
            "Epoch 1/3\n"
          ]
        },
        {
          "output_type": "stream",
          "name": "stderr",
          "text": [
            "/usr/local/lib/python3.10/dist-packages/keras/src/layers/core/dense.py:87: UserWarning: Do not pass an `input_shape`/`input_dim` argument to a layer. When using Sequential models, prefer using an `Input(shape)` object as the first layer in the model instead.\n",
            "  super().__init__(activity_regularizer=activity_regularizer, **kwargs)\n"
          ]
        },
        {
          "output_type": "stream",
          "name": "stdout",
          "text": [
            "\u001b[1m704/704\u001b[0m \u001b[32m━━━━━━━━━━━━━━━━━━━━\u001b[0m\u001b[37m\u001b[0m \u001b[1m4s\u001b[0m 3ms/step - accuracy: 0.8905 - loss: 0.4068 - val_accuracy: 0.9499 - val_loss: 0.2007\n",
            "Epoch 2/3\n",
            "\u001b[1m704/704\u001b[0m \u001b[32m━━━━━━━━━━━━━━━━━━━━\u001b[0m\u001b[37m\u001b[0m \u001b[1m2s\u001b[0m 2ms/step - accuracy: 0.9503 - loss: 0.1995 - val_accuracy: 0.9499 - val_loss: 0.1995\n",
            "Epoch 3/3\n",
            "\u001b[1m704/704\u001b[0m \u001b[32m━━━━━━━━━━━━━━━━━━━━\u001b[0m\u001b[37m\u001b[0m \u001b[1m3s\u001b[0m 2ms/step - accuracy: 0.9515 - loss: 0.1953 - val_accuracy: 0.9499 - val_loss: 0.1999\n"
          ]
        }
      ]
    },
    {
      "cell_type": "code",
      "source": [
        "# Evaluate the model\n",
        "model.save('mlp.keras')\n",
        "model = tf.keras.models.load_model('mlp.keras')\n",
        "loss, accuracy = model.evaluate(x_test,y_test)\n",
        "\n",
        "print(f\"Test Accuracy: {loss:.2f}\")\n",
        "print(f\"Test Accuracy: {accuracy:.2f}\")"
      ],
      "metadata": {
        "colab": {
          "base_uri": "https://localhost:8080/"
        },
        "id": "lvWmCUzosrT6",
        "outputId": "8066e67a-3c6f-4131-d9ec-360b3b13f1a8"
      },
      "execution_count": 33,
      "outputs": [
        {
          "output_type": "stream",
          "name": "stdout",
          "text": [
            "\u001b[1m151/151\u001b[0m \u001b[32m━━━━━━━━━━━━━━━━━━━━\u001b[0m\u001b[37m\u001b[0m \u001b[1m1s\u001b[0m 2ms/step - accuracy: 0.9506 - loss: 0.1983\n",
            "Test Accuracy: 0.20\n",
            "Test Accuracy: 0.95\n"
          ]
        }
      ]
    }
  ]
}
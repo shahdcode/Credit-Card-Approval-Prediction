{
  "nbformat": 4,
  "nbformat_minor": 0,
  "metadata": {
    "colab": {
      "provenance": [],
      "authorship_tag": "ABX9TyMXEwY/OmpMyYr0c5ftVcua",
      "include_colab_link": true
    },
    "kernelspec": {
      "name": "python3",
      "display_name": "Python 3"
    },
    "language_info": {
      "name": "python"
    }
  },
  "cells": [
    {
      "cell_type": "markdown",
      "metadata": {
        "id": "view-in-github",
        "colab_type": "text"
      },
      "source": [
        "<a href=\"https://colab.research.google.com/github/shahdcode/Credit-Card-Approval-Prediction/blob/main/RF_%26_SVM_algorithms.ipynb\" target=\"_parent\"><img src=\"https://colab.research.google.com/assets/colab-badge.svg\" alt=\"Open In Colab\"/></a>"
      ]
    },
    {
      "cell_type": "code",
      "execution_count": 6,
      "metadata": {
        "colab": {
          "base_uri": "https://localhost:8080/"
        },
        "id": "_nCDWrP3yOfd",
        "outputId": "dccf4711-04f5-4120-d262-6ea4fb61dde9"
      },
      "outputs": [
        {
          "output_type": "stream",
          "name": "stdout",
          "text": [
            "Drive already mounted at /content/drive; to attempt to forcibly remount, call drive.mount(\"/content/drive\", force_remount=True).\n"
          ]
        }
      ],
      "source": [
        "import pandas as pd\n",
        "import numpy as np\n",
        "import seaborn as sns\n",
        "import matplotlib.pyplot as plt\n",
        "import tensorflow as tf\n",
        "import os\n",
        "from sklearn.svm import SVC\n",
        "\n",
        "from sklearn.ensemble import RandomForestClassifier\n",
        "from sklearn.metrics import accuracy_score, classification_report, confusion_matrix\n",
        "\n",
        "from google.colab import files\n",
        "from google.colab import drive\n",
        "from sklearn.model_selection import train_test_split\n",
        "drive.mount('/content/drive')"
      ]
    },
    {
      "cell_type": "code",
      "source": [
        "train_df = pd.read_csv('/content/drive/MyDrive/Ai project/train_scaled.csv')\n",
        "val_df = pd.read_csv('/content/drive/MyDrive/Ai project/validation_scaled.csv')\n",
        "test_df = pd.read_csv('/content/drive/MyDrive/Ai project/test_scaled.csv')\n",
        "\n",
        "\n",
        "# Separate features and target\n",
        "X_train = train_df.drop(columns=['status_mapped'])\n",
        "y_train = train_df['status_mapped']\n",
        "\n",
        "X_val = val_df.drop(columns=['status_mapped'])\n",
        "y_val = val_df['status_mapped']\n",
        "\n",
        "X_test = test_df.drop(columns=['status_mapped'])\n",
        "y_test = test_df['status_mapped']\n"
      ],
      "metadata": {
        "id": "ciXqe10VycMB"
      },
      "execution_count": 2,
      "outputs": []
    },
    {
      "cell_type": "markdown",
      "source": [
        "## Random Forest:\n",
        "\n"
      ],
      "metadata": {
        "id": "S3ilha-g2mWK"
      }
    },
    {
      "cell_type": "code",
      "source": [
        "# Initialize and fit the Random Forest model\n",
        "rf = RandomForestClassifier(random_state=42)\n",
        "rf.fit(X_train, y_train)\n",
        "\n",
        "# Calculate training accuracy\n",
        "train_accuracy = accuracy_score(y_train, rf.predict(X_train))\n",
        "\n",
        "# Calculate validation accuracy\n",
        "val_accuracy = accuracy_score(y_val, rf.predict(X_val))\n",
        "\n",
        "# Calculate test accuracy\n",
        "test_accuracy = accuracy_score(y_test, rf.predict(X_test))\n",
        "\n",
        "# Display the accuracies\n",
        "print(f\"Random Forest Algorithm:\")\n",
        "print(f\"Training Accuracy: {train_accuracy:.2f}\")\n",
        "print(f\"Validation Accuracy: {val_accuracy:.2f}\")\n",
        "print(f\"Test Accuracy: {test_accuracy:.2f}\")\n"
      ],
      "metadata": {
        "colab": {
          "base_uri": "https://localhost:8080/"
        },
        "id": "2P-DnTpNzsRq",
        "outputId": "93be3ae3-4c4f-47cf-c5a8-6e4b29f066ed"
      },
      "execution_count": 5,
      "outputs": [
        {
          "output_type": "stream",
          "name": "stdout",
          "text": [
            "Random Forest Algorithm:\n",
            "Training Accuracy: 1.00\n",
            "Validation Accuracy: 0.94\n",
            "Test Accuracy: 0.93\n"
          ]
        }
      ]
    },
    {
      "cell_type": "markdown",
      "source": [
        "## Support Vector Machine:\n",
        "\n"
      ],
      "metadata": {
        "id": "qGEMTNMw1Yv6"
      }
    },
    {
      "cell_type": "code",
      "source": [
        "# Initialize the SVM model\n",
        "svm = SVC(kernel='linear', random_state=42)\n",
        "\n",
        "# Fit the SVM model\n",
        "svm.fit(X_train, y_train)\n",
        "\n",
        "# Calculate training accuracy\n",
        "train_accuracy = accuracy_score(y_train, svm.predict(X_train))\n",
        "\n",
        "# Calculate validation accuracy\n",
        "val_accuracy = accuracy_score(y_val, svm.predict(X_val))\n",
        "\n",
        "# Calculate test accuracy\n",
        "test_accuracy = accuracy_score(y_test, svm.predict(X_test))\n",
        "\n",
        "# Display the accuracies\n",
        "print(f\"Support Vector Machine Algorithm:\")\n",
        "print(f\"Training Accuracy: {train_accuracy:.2f}\")\n",
        "print(f\"Validation Accuracy: {val_accuracy:.2f}\")\n",
        "print(f\"Test Accuracy: {test_accuracy:.2f}\")"
      ],
      "metadata": {
        "colab": {
          "base_uri": "https://localhost:8080/"
        },
        "id": "fbm2GjAq1hlJ",
        "outputId": "2f95dc4e-3ba3-4690-d9be-5ef73e728f58"
      },
      "execution_count": 8,
      "outputs": [
        {
          "output_type": "stream",
          "name": "stdout",
          "text": [
            "Support Vector Machine Algorithm:\n",
            "Training Accuracy: 0.95\n",
            "Validation Accuracy: 0.95\n",
            "Test Accuracy: 0.95\n"
          ]
        }
      ]
    }
  ]
}
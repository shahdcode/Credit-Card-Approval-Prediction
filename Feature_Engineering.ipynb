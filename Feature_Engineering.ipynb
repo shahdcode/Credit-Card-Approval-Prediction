{
  "cells": [
    {
      "cell_type": "markdown",
      "metadata": {
        "id": "view-in-github",
        "colab_type": "text"
      },
      "source": [
        "<a href=\"https://colab.research.google.com/github/shahdcode/Credit-Card-Approval-Prediction/blob/main/Feature_Engineering.ipynb\" target=\"_parent\"><img src=\"https://colab.research.google.com/assets/colab-badge.svg\" alt=\"Open In Colab\"/></a>"
      ]
    },
    {
      "cell_type": "markdown",
      "metadata": {
        "id": "v0ZGLoysVkTx"
      },
      "source": [
        "# **Feature Engineering**"
      ]
    },
    {
      "cell_type": "code",
      "execution_count": 2,
      "metadata": {
        "colab": {
          "base_uri": "https://localhost:8080/"
        },
        "id": "2fWLg_sJ558f",
        "outputId": "deada59a-4492-495a-ff8b-055e21ac6525"
      },
      "outputs": [
        {
          "output_type": "stream",
          "name": "stdout",
          "text": [
            "Mounted at /content/drive\n"
          ]
        }
      ],
      "source": [
        "import pandas as pd\n",
        "import numpy as np\n",
        "import seaborn as sns\n",
        "import matplotlib.pyplot as plt\n",
        "\n",
        "from google.colab import files\n",
        "from google.colab import drive\n",
        "from sklearn.model_selection import train_test_split\n",
        "drive.mount('/content/drive')"
      ]
    },
    {
      "cell_type": "markdown",
      "metadata": {
        "id": "8s3Hc1VAVgww"
      },
      "source": [
        "Read Merged File"
      ]
    },
    {
      "cell_type": "code",
      "execution_count": 3,
      "metadata": {
        "colab": {
          "base_uri": "https://localhost:8080/",
          "height": 278
        },
        "id": "lyVT72MKVgIc",
        "outputId": "3477208a-6a11-4b78-b65a-8d83e4a530b4"
      },
      "outputs": [
        {
          "output_type": "execute_result",
          "data": {
            "text/plain": [
              "        ID CODE_GENDER FLAG_OWN_CAR FLAG_OWN_REALTY  CNT_CHILDREN  \\\n",
              "0  5008804           M            Y               Y             0   \n",
              "1  5008805           M            Y               Y             0   \n",
              "2  5008806           M            Y               Y             0   \n",
              "3  5008808           F            N               Y             0   \n",
              "4  5008809           F            N               Y             0   \n",
              "\n",
              "   AMT_INCOME_TOTAL      NAME_INCOME_TYPE            NAME_EDUCATION_TYPE  \\\n",
              "0          427500.0               Working               Higher education   \n",
              "1          427500.0               Working               Higher education   \n",
              "2          112500.0               Working  Secondary / secondary special   \n",
              "3          270000.0  Commercial associate  Secondary / secondary special   \n",
              "4          270000.0  Commercial associate  Secondary / secondary special   \n",
              "\n",
              "     NAME_FAMILY_STATUS  NAME_HOUSING_TYPE  DAYS_BIRTH  DAYS_EMPLOYED  \\\n",
              "0        Civil marriage   Rented apartment      -12005          -4542   \n",
              "1        Civil marriage   Rented apartment      -12005          -4542   \n",
              "2               Married  House / apartment      -21474          -1134   \n",
              "3  Single / not married  House / apartment      -19110          -3051   \n",
              "4  Single / not married  House / apartment      -19110          -3051   \n",
              "\n",
              "   FLAG_MOBIL  FLAG_WORK_PHONE  FLAG_PHONE  FLAG_EMAIL OCCUPATION_TYPE  \\\n",
              "0           1                1           0           0        Laborers   \n",
              "1           1                1           0           0        Laborers   \n",
              "2           1                0           0           0  Security staff   \n",
              "3           1                0           1           1     Sales staff   \n",
              "4           1                0           1           1     Sales staff   \n",
              "\n",
              "   CNT_FAM_MEMBERS STATUS  status_mapped  \n",
              "0              2.0      C              1  \n",
              "1              2.0      C              1  \n",
              "2              2.0      X              1  \n",
              "3              1.0      X              1  \n",
              "4              1.0      X              1  "
            ],
            "text/html": [
              "\n",
              "  <div id=\"df-22c18073-d482-43c4-bfdc-3ea419cb0642\" class=\"colab-df-container\">\n",
              "    <div>\n",
              "<style scoped>\n",
              "    .dataframe tbody tr th:only-of-type {\n",
              "        vertical-align: middle;\n",
              "    }\n",
              "\n",
              "    .dataframe tbody tr th {\n",
              "        vertical-align: top;\n",
              "    }\n",
              "\n",
              "    .dataframe thead th {\n",
              "        text-align: right;\n",
              "    }\n",
              "</style>\n",
              "<table border=\"1\" class=\"dataframe\">\n",
              "  <thead>\n",
              "    <tr style=\"text-align: right;\">\n",
              "      <th></th>\n",
              "      <th>ID</th>\n",
              "      <th>CODE_GENDER</th>\n",
              "      <th>FLAG_OWN_CAR</th>\n",
              "      <th>FLAG_OWN_REALTY</th>\n",
              "      <th>CNT_CHILDREN</th>\n",
              "      <th>AMT_INCOME_TOTAL</th>\n",
              "      <th>NAME_INCOME_TYPE</th>\n",
              "      <th>NAME_EDUCATION_TYPE</th>\n",
              "      <th>NAME_FAMILY_STATUS</th>\n",
              "      <th>NAME_HOUSING_TYPE</th>\n",
              "      <th>DAYS_BIRTH</th>\n",
              "      <th>DAYS_EMPLOYED</th>\n",
              "      <th>FLAG_MOBIL</th>\n",
              "      <th>FLAG_WORK_PHONE</th>\n",
              "      <th>FLAG_PHONE</th>\n",
              "      <th>FLAG_EMAIL</th>\n",
              "      <th>OCCUPATION_TYPE</th>\n",
              "      <th>CNT_FAM_MEMBERS</th>\n",
              "      <th>STATUS</th>\n",
              "      <th>status_mapped</th>\n",
              "    </tr>\n",
              "  </thead>\n",
              "  <tbody>\n",
              "    <tr>\n",
              "      <th>0</th>\n",
              "      <td>5008804</td>\n",
              "      <td>M</td>\n",
              "      <td>Y</td>\n",
              "      <td>Y</td>\n",
              "      <td>0</td>\n",
              "      <td>427500.0</td>\n",
              "      <td>Working</td>\n",
              "      <td>Higher education</td>\n",
              "      <td>Civil marriage</td>\n",
              "      <td>Rented apartment</td>\n",
              "      <td>-12005</td>\n",
              "      <td>-4542</td>\n",
              "      <td>1</td>\n",
              "      <td>1</td>\n",
              "      <td>0</td>\n",
              "      <td>0</td>\n",
              "      <td>Laborers</td>\n",
              "      <td>2.0</td>\n",
              "      <td>C</td>\n",
              "      <td>1</td>\n",
              "    </tr>\n",
              "    <tr>\n",
              "      <th>1</th>\n",
              "      <td>5008805</td>\n",
              "      <td>M</td>\n",
              "      <td>Y</td>\n",
              "      <td>Y</td>\n",
              "      <td>0</td>\n",
              "      <td>427500.0</td>\n",
              "      <td>Working</td>\n",
              "      <td>Higher education</td>\n",
              "      <td>Civil marriage</td>\n",
              "      <td>Rented apartment</td>\n",
              "      <td>-12005</td>\n",
              "      <td>-4542</td>\n",
              "      <td>1</td>\n",
              "      <td>1</td>\n",
              "      <td>0</td>\n",
              "      <td>0</td>\n",
              "      <td>Laborers</td>\n",
              "      <td>2.0</td>\n",
              "      <td>C</td>\n",
              "      <td>1</td>\n",
              "    </tr>\n",
              "    <tr>\n",
              "      <th>2</th>\n",
              "      <td>5008806</td>\n",
              "      <td>M</td>\n",
              "      <td>Y</td>\n",
              "      <td>Y</td>\n",
              "      <td>0</td>\n",
              "      <td>112500.0</td>\n",
              "      <td>Working</td>\n",
              "      <td>Secondary / secondary special</td>\n",
              "      <td>Married</td>\n",
              "      <td>House / apartment</td>\n",
              "      <td>-21474</td>\n",
              "      <td>-1134</td>\n",
              "      <td>1</td>\n",
              "      <td>0</td>\n",
              "      <td>0</td>\n",
              "      <td>0</td>\n",
              "      <td>Security staff</td>\n",
              "      <td>2.0</td>\n",
              "      <td>X</td>\n",
              "      <td>1</td>\n",
              "    </tr>\n",
              "    <tr>\n",
              "      <th>3</th>\n",
              "      <td>5008808</td>\n",
              "      <td>F</td>\n",
              "      <td>N</td>\n",
              "      <td>Y</td>\n",
              "      <td>0</td>\n",
              "      <td>270000.0</td>\n",
              "      <td>Commercial associate</td>\n",
              "      <td>Secondary / secondary special</td>\n",
              "      <td>Single / not married</td>\n",
              "      <td>House / apartment</td>\n",
              "      <td>-19110</td>\n",
              "      <td>-3051</td>\n",
              "      <td>1</td>\n",
              "      <td>0</td>\n",
              "      <td>1</td>\n",
              "      <td>1</td>\n",
              "      <td>Sales staff</td>\n",
              "      <td>1.0</td>\n",
              "      <td>X</td>\n",
              "      <td>1</td>\n",
              "    </tr>\n",
              "    <tr>\n",
              "      <th>4</th>\n",
              "      <td>5008809</td>\n",
              "      <td>F</td>\n",
              "      <td>N</td>\n",
              "      <td>Y</td>\n",
              "      <td>0</td>\n",
              "      <td>270000.0</td>\n",
              "      <td>Commercial associate</td>\n",
              "      <td>Secondary / secondary special</td>\n",
              "      <td>Single / not married</td>\n",
              "      <td>House / apartment</td>\n",
              "      <td>-19110</td>\n",
              "      <td>-3051</td>\n",
              "      <td>1</td>\n",
              "      <td>0</td>\n",
              "      <td>1</td>\n",
              "      <td>1</td>\n",
              "      <td>Sales staff</td>\n",
              "      <td>1.0</td>\n",
              "      <td>X</td>\n",
              "      <td>1</td>\n",
              "    </tr>\n",
              "  </tbody>\n",
              "</table>\n",
              "</div>\n",
              "    <div class=\"colab-df-buttons\">\n",
              "\n",
              "  <div class=\"colab-df-container\">\n",
              "    <button class=\"colab-df-convert\" onclick=\"convertToInteractive('df-22c18073-d482-43c4-bfdc-3ea419cb0642')\"\n",
              "            title=\"Convert this dataframe to an interactive table.\"\n",
              "            style=\"display:none;\">\n",
              "\n",
              "  <svg xmlns=\"http://www.w3.org/2000/svg\" height=\"24px\" viewBox=\"0 -960 960 960\">\n",
              "    <path d=\"M120-120v-720h720v720H120Zm60-500h600v-160H180v160Zm220 220h160v-160H400v160Zm0 220h160v-160H400v160ZM180-400h160v-160H180v160Zm440 0h160v-160H620v160ZM180-180h160v-160H180v160Zm440 0h160v-160H620v160Z\"/>\n",
              "  </svg>\n",
              "    </button>\n",
              "\n",
              "  <style>\n",
              "    .colab-df-container {\n",
              "      display:flex;\n",
              "      gap: 12px;\n",
              "    }\n",
              "\n",
              "    .colab-df-convert {\n",
              "      background-color: #E8F0FE;\n",
              "      border: none;\n",
              "      border-radius: 50%;\n",
              "      cursor: pointer;\n",
              "      display: none;\n",
              "      fill: #1967D2;\n",
              "      height: 32px;\n",
              "      padding: 0 0 0 0;\n",
              "      width: 32px;\n",
              "    }\n",
              "\n",
              "    .colab-df-convert:hover {\n",
              "      background-color: #E2EBFA;\n",
              "      box-shadow: 0px 1px 2px rgba(60, 64, 67, 0.3), 0px 1px 3px 1px rgba(60, 64, 67, 0.15);\n",
              "      fill: #174EA6;\n",
              "    }\n",
              "\n",
              "    .colab-df-buttons div {\n",
              "      margin-bottom: 4px;\n",
              "    }\n",
              "\n",
              "    [theme=dark] .colab-df-convert {\n",
              "      background-color: #3B4455;\n",
              "      fill: #D2E3FC;\n",
              "    }\n",
              "\n",
              "    [theme=dark] .colab-df-convert:hover {\n",
              "      background-color: #434B5C;\n",
              "      box-shadow: 0px 1px 3px 1px rgba(0, 0, 0, 0.15);\n",
              "      filter: drop-shadow(0px 1px 2px rgba(0, 0, 0, 0.3));\n",
              "      fill: #FFFFFF;\n",
              "    }\n",
              "  </style>\n",
              "\n",
              "    <script>\n",
              "      const buttonEl =\n",
              "        document.querySelector('#df-22c18073-d482-43c4-bfdc-3ea419cb0642 button.colab-df-convert');\n",
              "      buttonEl.style.display =\n",
              "        google.colab.kernel.accessAllowed ? 'block' : 'none';\n",
              "\n",
              "      async function convertToInteractive(key) {\n",
              "        const element = document.querySelector('#df-22c18073-d482-43c4-bfdc-3ea419cb0642');\n",
              "        const dataTable =\n",
              "          await google.colab.kernel.invokeFunction('convertToInteractive',\n",
              "                                                    [key], {});\n",
              "        if (!dataTable) return;\n",
              "\n",
              "        const docLinkHtml = 'Like what you see? Visit the ' +\n",
              "          '<a target=\"_blank\" href=https://colab.research.google.com/notebooks/data_table.ipynb>data table notebook</a>'\n",
              "          + ' to learn more about interactive tables.';\n",
              "        element.innerHTML = '';\n",
              "        dataTable['output_type'] = 'display_data';\n",
              "        await google.colab.output.renderOutput(dataTable, element);\n",
              "        const docLink = document.createElement('div');\n",
              "        docLink.innerHTML = docLinkHtml;\n",
              "        element.appendChild(docLink);\n",
              "      }\n",
              "    </script>\n",
              "  </div>\n",
              "\n",
              "\n",
              "<div id=\"df-5e83d396-f3dd-4293-a1c0-d5aa3269a65f\">\n",
              "  <button class=\"colab-df-quickchart\" onclick=\"quickchart('df-5e83d396-f3dd-4293-a1c0-d5aa3269a65f')\"\n",
              "            title=\"Suggest charts\"\n",
              "            style=\"display:none;\">\n",
              "\n",
              "<svg xmlns=\"http://www.w3.org/2000/svg\" height=\"24px\"viewBox=\"0 0 24 24\"\n",
              "     width=\"24px\">\n",
              "    <g>\n",
              "        <path d=\"M19 3H5c-1.1 0-2 .9-2 2v14c0 1.1.9 2 2 2h14c1.1 0 2-.9 2-2V5c0-1.1-.9-2-2-2zM9 17H7v-7h2v7zm4 0h-2V7h2v10zm4 0h-2v-4h2v4z\"/>\n",
              "    </g>\n",
              "</svg>\n",
              "  </button>\n",
              "\n",
              "<style>\n",
              "  .colab-df-quickchart {\n",
              "      --bg-color: #E8F0FE;\n",
              "      --fill-color: #1967D2;\n",
              "      --hover-bg-color: #E2EBFA;\n",
              "      --hover-fill-color: #174EA6;\n",
              "      --disabled-fill-color: #AAA;\n",
              "      --disabled-bg-color: #DDD;\n",
              "  }\n",
              "\n",
              "  [theme=dark] .colab-df-quickchart {\n",
              "      --bg-color: #3B4455;\n",
              "      --fill-color: #D2E3FC;\n",
              "      --hover-bg-color: #434B5C;\n",
              "      --hover-fill-color: #FFFFFF;\n",
              "      --disabled-bg-color: #3B4455;\n",
              "      --disabled-fill-color: #666;\n",
              "  }\n",
              "\n",
              "  .colab-df-quickchart {\n",
              "    background-color: var(--bg-color);\n",
              "    border: none;\n",
              "    border-radius: 50%;\n",
              "    cursor: pointer;\n",
              "    display: none;\n",
              "    fill: var(--fill-color);\n",
              "    height: 32px;\n",
              "    padding: 0;\n",
              "    width: 32px;\n",
              "  }\n",
              "\n",
              "  .colab-df-quickchart:hover {\n",
              "    background-color: var(--hover-bg-color);\n",
              "    box-shadow: 0 1px 2px rgba(60, 64, 67, 0.3), 0 1px 3px 1px rgba(60, 64, 67, 0.15);\n",
              "    fill: var(--button-hover-fill-color);\n",
              "  }\n",
              "\n",
              "  .colab-df-quickchart-complete:disabled,\n",
              "  .colab-df-quickchart-complete:disabled:hover {\n",
              "    background-color: var(--disabled-bg-color);\n",
              "    fill: var(--disabled-fill-color);\n",
              "    box-shadow: none;\n",
              "  }\n",
              "\n",
              "  .colab-df-spinner {\n",
              "    border: 2px solid var(--fill-color);\n",
              "    border-color: transparent;\n",
              "    border-bottom-color: var(--fill-color);\n",
              "    animation:\n",
              "      spin 1s steps(1) infinite;\n",
              "  }\n",
              "\n",
              "  @keyframes spin {\n",
              "    0% {\n",
              "      border-color: transparent;\n",
              "      border-bottom-color: var(--fill-color);\n",
              "      border-left-color: var(--fill-color);\n",
              "    }\n",
              "    20% {\n",
              "      border-color: transparent;\n",
              "      border-left-color: var(--fill-color);\n",
              "      border-top-color: var(--fill-color);\n",
              "    }\n",
              "    30% {\n",
              "      border-color: transparent;\n",
              "      border-left-color: var(--fill-color);\n",
              "      border-top-color: var(--fill-color);\n",
              "      border-right-color: var(--fill-color);\n",
              "    }\n",
              "    40% {\n",
              "      border-color: transparent;\n",
              "      border-right-color: var(--fill-color);\n",
              "      border-top-color: var(--fill-color);\n",
              "    }\n",
              "    60% {\n",
              "      border-color: transparent;\n",
              "      border-right-color: var(--fill-color);\n",
              "    }\n",
              "    80% {\n",
              "      border-color: transparent;\n",
              "      border-right-color: var(--fill-color);\n",
              "      border-bottom-color: var(--fill-color);\n",
              "    }\n",
              "    90% {\n",
              "      border-color: transparent;\n",
              "      border-bottom-color: var(--fill-color);\n",
              "    }\n",
              "  }\n",
              "</style>\n",
              "\n",
              "  <script>\n",
              "    async function quickchart(key) {\n",
              "      const quickchartButtonEl =\n",
              "        document.querySelector('#' + key + ' button');\n",
              "      quickchartButtonEl.disabled = true;  // To prevent multiple clicks.\n",
              "      quickchartButtonEl.classList.add('colab-df-spinner');\n",
              "      try {\n",
              "        const charts = await google.colab.kernel.invokeFunction(\n",
              "            'suggestCharts', [key], {});\n",
              "      } catch (error) {\n",
              "        console.error('Error during call to suggestCharts:', error);\n",
              "      }\n",
              "      quickchartButtonEl.classList.remove('colab-df-spinner');\n",
              "      quickchartButtonEl.classList.add('colab-df-quickchart-complete');\n",
              "    }\n",
              "    (() => {\n",
              "      let quickchartButtonEl =\n",
              "        document.querySelector('#df-5e83d396-f3dd-4293-a1c0-d5aa3269a65f button');\n",
              "      quickchartButtonEl.style.display =\n",
              "        google.colab.kernel.accessAllowed ? 'block' : 'none';\n",
              "    })();\n",
              "  </script>\n",
              "</div>\n",
              "\n",
              "    </div>\n",
              "  </div>\n"
            ],
            "application/vnd.google.colaboratory.intrinsic+json": {
              "type": "dataframe",
              "variable_name": "merged_csv",
              "summary": "{\n  \"name\": \"merged_csv\",\n  \"rows\": 32175,\n  \"fields\": [\n    {\n      \"column\": \"ID\",\n      \"properties\": {\n        \"dtype\": \"number\",\n        \"std\": 41871,\n        \"min\": 5008804,\n        \"max\": 5150487,\n        \"num_unique_values\": 32175,\n        \"samples\": [\n          5052722,\n          5024389,\n          5068257\n        ],\n        \"semantic_type\": \"\",\n        \"description\": \"\"\n      }\n    },\n    {\n      \"column\": \"CODE_GENDER\",\n      \"properties\": {\n        \"dtype\": \"category\",\n        \"num_unique_values\": 2,\n        \"samples\": [\n          \"F\",\n          \"M\"\n        ],\n        \"semantic_type\": \"\",\n        \"description\": \"\"\n      }\n    },\n    {\n      \"column\": \"FLAG_OWN_CAR\",\n      \"properties\": {\n        \"dtype\": \"category\",\n        \"num_unique_values\": 2,\n        \"samples\": [\n          \"N\",\n          \"Y\"\n        ],\n        \"semantic_type\": \"\",\n        \"description\": \"\"\n      }\n    },\n    {\n      \"column\": \"FLAG_OWN_REALTY\",\n      \"properties\": {\n        \"dtype\": \"category\",\n        \"num_unique_values\": 2,\n        \"samples\": [\n          \"N\",\n          \"Y\"\n        ],\n        \"semantic_type\": \"\",\n        \"description\": \"\"\n      }\n    },\n    {\n      \"column\": \"CNT_CHILDREN\",\n      \"properties\": {\n        \"dtype\": \"number\",\n        \"std\": 0,\n        \"min\": 0,\n        \"max\": 14,\n        \"num_unique_values\": 8,\n        \"samples\": [\n          1,\n          5\n        ],\n        \"semantic_type\": \"\",\n        \"description\": \"\"\n      }\n    },\n    {\n      \"column\": \"AMT_INCOME_TOTAL\",\n      \"properties\": {\n        \"dtype\": \"number\",\n        \"std\": 100152.66771206517,\n        \"min\": 27000.0,\n        \"max\": 1000000.0,\n        \"num_unique_values\": 256,\n        \"samples\": [\n          32400.0,\n          157500.0\n        ],\n        \"semantic_type\": \"\",\n        \"description\": \"\"\n      }\n    },\n    {\n      \"column\": \"NAME_INCOME_TYPE\",\n      \"properties\": {\n        \"dtype\": \"category\",\n        \"num_unique_values\": 5,\n        \"samples\": [\n          \"Commercial associate\",\n          \"Student\"\n        ],\n        \"semantic_type\": \"\",\n        \"description\": \"\"\n      }\n    },\n    {\n      \"column\": \"NAME_EDUCATION_TYPE\",\n      \"properties\": {\n        \"dtype\": \"category\",\n        \"num_unique_values\": 5,\n        \"samples\": [\n          \"Secondary / secondary special\",\n          \"Academic degree\"\n        ],\n        \"semantic_type\": \"\",\n        \"description\": \"\"\n      }\n    },\n    {\n      \"column\": \"NAME_FAMILY_STATUS\",\n      \"properties\": {\n        \"dtype\": \"category\",\n        \"num_unique_values\": 5,\n        \"samples\": [\n          \"Married\",\n          \"Widow\"\n        ],\n        \"semantic_type\": \"\",\n        \"description\": \"\"\n      }\n    },\n    {\n      \"column\": \"NAME_HOUSING_TYPE\",\n      \"properties\": {\n        \"dtype\": \"category\",\n        \"num_unique_values\": 6,\n        \"samples\": [\n          \"Rented apartment\",\n          \"House / apartment\"\n        ],\n        \"semantic_type\": \"\",\n        \"description\": \"\"\n      }\n    },\n    {\n      \"column\": \"DAYS_BIRTH\",\n      \"properties\": {\n        \"dtype\": \"number\",\n        \"std\": 4191,\n        \"min\": -25152,\n        \"max\": -7489,\n        \"num_unique_values\": 6874,\n        \"samples\": [\n          -11034,\n          -22006\n        ],\n        \"semantic_type\": \"\",\n        \"description\": \"\"\n      }\n    },\n    {\n      \"column\": \"DAYS_EMPLOYED\",\n      \"properties\": {\n        \"dtype\": \"number\",\n        \"std\": 137420,\n        \"min\": -15713,\n        \"max\": 365243,\n        \"num_unique_values\": 3542,\n        \"samples\": [\n          -3366,\n          -1587\n        ],\n        \"semantic_type\": \"\",\n        \"description\": \"\"\n      }\n    },\n    {\n      \"column\": \"FLAG_MOBIL\",\n      \"properties\": {\n        \"dtype\": \"number\",\n        \"std\": 0,\n        \"min\": 1,\n        \"max\": 1,\n        \"num_unique_values\": 1,\n        \"samples\": [\n          1\n        ],\n        \"semantic_type\": \"\",\n        \"description\": \"\"\n      }\n    },\n    {\n      \"column\": \"FLAG_WORK_PHONE\",\n      \"properties\": {\n        \"dtype\": \"number\",\n        \"std\": 0,\n        \"min\": 0,\n        \"max\": 1,\n        \"num_unique_values\": 2,\n        \"samples\": [\n          0\n        ],\n        \"semantic_type\": \"\",\n        \"description\": \"\"\n      }\n    },\n    {\n      \"column\": \"FLAG_PHONE\",\n      \"properties\": {\n        \"dtype\": \"number\",\n        \"std\": 0,\n        \"min\": 0,\n        \"max\": 1,\n        \"num_unique_values\": 2,\n        \"samples\": [\n          1\n        ],\n        \"semantic_type\": \"\",\n        \"description\": \"\"\n      }\n    },\n    {\n      \"column\": \"FLAG_EMAIL\",\n      \"properties\": {\n        \"dtype\": \"number\",\n        \"std\": 0,\n        \"min\": 0,\n        \"max\": 1,\n        \"num_unique_values\": 2,\n        \"samples\": [\n          1\n        ],\n        \"semantic_type\": \"\",\n        \"description\": \"\"\n      }\n    },\n    {\n      \"column\": \"OCCUPATION_TYPE\",\n      \"properties\": {\n        \"dtype\": \"category\",\n        \"num_unique_values\": 18,\n        \"samples\": [\n          \"Laborers\"\n        ],\n        \"semantic_type\": \"\",\n        \"description\": \"\"\n      }\n    },\n    {\n      \"column\": \"CNT_FAM_MEMBERS\",\n      \"properties\": {\n        \"dtype\": \"number\",\n        \"std\": 0.9055870690664087,\n        \"min\": 1.0,\n        \"max\": 15.0,\n        \"num_unique_values\": 9,\n        \"samples\": [\n          7.0\n        ],\n        \"semantic_type\": \"\",\n        \"description\": \"\"\n      }\n    },\n    {\n      \"column\": \"STATUS\",\n      \"properties\": {\n        \"dtype\": \"category\",\n        \"num_unique_values\": 6,\n        \"samples\": [\n          \"C\"\n        ],\n        \"semantic_type\": \"\",\n        \"description\": \"\"\n      }\n    },\n    {\n      \"column\": \"status_mapped\",\n      \"properties\": {\n        \"dtype\": \"number\",\n        \"std\": 0,\n        \"min\": 0,\n        \"max\": 1,\n        \"num_unique_values\": 2,\n        \"samples\": [\n          0\n        ],\n        \"semantic_type\": \"\",\n        \"description\": \"\"\n      }\n    }\n  ]\n}"
            }
          },
          "metadata": {},
          "execution_count": 3
        }
      ],
      "source": [
        "merged_csv = merged_csv = pd.read_csv('/content/drive/MyDrive/Ai project/merged_application_credit_record.csv')\n",
        "\n",
        "merged_csv.head()"
      ]
    },
    {
      "cell_type": "markdown",
      "metadata": {
        "id": "9yFRU2dDWHsa"
      },
      "source": [
        "Apply Feature Engineering to DAYS_BIRTH and DAYS_EMPLOYED columns."
      ]
    },
    {
      "cell_type": "code",
      "execution_count": 4,
      "metadata": {
        "colab": {
          "base_uri": "https://localhost:8080/"
        },
        "id": "OTXtWUWxV8SF",
        "outputId": "d4642f64-4c5e-44c8-944e-e14d67834617"
      },
      "outputs": [
        {
          "output_type": "stream",
          "name": "stdout",
          "text": [
            "Age in years\n",
            "0        32\n",
            "1        32\n",
            "2        58\n",
            "3        52\n",
            "4        52\n",
            "         ..\n",
            "32170    47\n",
            "32171    33\n",
            "32172    33\n",
            "32173    49\n",
            "32174    25\n",
            "Name: AGE_YEARS, Length: 32175, dtype: int64\n",
            "Years of Employment\n",
            "0        12\n",
            "1        12\n",
            "2         3\n",
            "3         8\n",
            "4         8\n",
            "         ..\n",
            "32170     6\n",
            "32171     3\n",
            "32172     3\n",
            "32173     1\n",
            "32174     3\n",
            "Name: YEARS_EMPLOYED, Length: 32175, dtype: int64\n"
          ]
        }
      ],
      "source": [
        "df = pd.DataFrame(merged_csv)\n",
        "\n",
        "# create new feature that converts Days_brith to years (age)\n",
        "df['AGE_YEARS'] = (df['DAYS_BIRTH'].abs() / 365).astype(int)\n",
        "\n",
        "# create new feature that converts days_employed into years\n",
        "df['YEARS_EMPLOYED'] = (df['DAYS_EMPLOYED'].abs() / 365).astype(int)\n",
        "\n",
        "\n",
        "print('Age in years')\n",
        "print(df['AGE_YEARS'])\n",
        "print('Years of Employment')\n",
        "print(df['YEARS_EMPLOYED'])\n"
      ]
    },
    {
      "cell_type": "markdown",
      "metadata": {
        "id": "mjuOqs2RbLmx"
      },
      "source": [
        "# Label Encoding"
      ]
    },
    {
      "cell_type": "code",
      "execution_count": 5,
      "metadata": {
        "id": "_r-CuCVRZPba"
      },
      "outputs": [],
      "source": [
        "from sklearn import preprocessing\n",
        "\n",
        "label_encoder = preprocessing.LabelEncoder()\n",
        "\n",
        "# encode following labels: gender, flag_own_car, flag_own_realty, name_income_type, name_education_type, name_family_status,\n",
        "#                           name_housing_type, occupation type, status\n",
        "\n",
        "\n",
        "# encode code_gender (male: 1, female: 0)\n",
        "df['CODE_GENDER'] = label_encoder.fit_transform(df['CODE_GENDER'])\n",
        "\n",
        "# print(df['CODE_GENDER'])\n",
        "\n",
        "#encode FLAG_OWN_CAR\n",
        "df['FLAG_OWN_CAR'] = label_encoder.fit_transform(df['FLAG_OWN_CAR'])\n",
        "\n",
        "#encode FLAG_OWN_REALTY\n",
        "df['FLAG_OWN_REALTY'] = label_encoder.fit_transform(df['FLAG_OWN_REALTY'])\n",
        "\n",
        "#encode NAME_INCOME_TYPE\n",
        "df['NAME_INCOME_TYPE'] = label_encoder.fit_transform(df['NAME_INCOME_TYPE'])\n",
        "\n",
        "#encode NAME_EDUCATION_TYPE\n",
        "df['NAME_EDUCATION_TYPE'] = label_encoder.fit_transform(df['NAME_EDUCATION_TYPE'])\n",
        "\n",
        "#encode NAME_FAMILY_STATUS\n",
        "df['NAME_FAMILY_STATUS'] = label_encoder.fit_transform(df['NAME_FAMILY_STATUS'])\n",
        "\n",
        "#encode NAME_HOUSING_TYPE\n",
        "df['NAME_HOUSING_TYPE'] = label_encoder.fit_transform(df['NAME_HOUSING_TYPE'])\n",
        "\n",
        "#encode OCCUPATION_TYPE\n",
        "df['OCCUPATION_TYPE'] = label_encoder.fit_transform(df['OCCUPATION_TYPE'])\n",
        "\n",
        "# #encode STATUS\n",
        "# df['STATUS'] = label_encoder.fit_transform(df['STATUS'])\n"
      ]
    },
    {
      "cell_type": "markdown",
      "source": [
        "Drop Unnessary Columns"
      ],
      "metadata": {
        "id": "riS9hk9GP0ks"
      }
    },
    {
      "cell_type": "code",
      "source": [
        "df = df.drop('DAYS_BIRTH', axis=1)\n",
        "df = df.drop('DAYS_EMPLOYED', axis=1)"
      ],
      "metadata": {
        "id": "4WRkK7XFP7Hr"
      },
      "execution_count": 6,
      "outputs": []
    },
    {
      "cell_type": "code",
      "source": [
        "# fixing overfitting values in years_employed column\n",
        "\n",
        "# Calculate the median excluding 1000\n",
        "median_years = df[df['YEARS_EMPLOYED'] != 1000]['YEARS_EMPLOYED'].median()\n",
        "\n",
        "# Replace 1000 values with the median\n",
        "df['YEARS_EMPLOYED'] = df['YEARS_EMPLOYED'].replace(1000, median_years)\n"
      ],
      "metadata": {
        "id": "QCL1MT-6TZRS"
      },
      "execution_count": 7,
      "outputs": []
    },
    {
      "cell_type": "markdown",
      "metadata": {
        "id": "tiLRVK1K9-HO"
      },
      "source": [
        "# Saving after Feature Engineering"
      ]
    },
    {
      "cell_type": "code",
      "execution_count": 9,
      "metadata": {
        "colab": {
          "base_uri": "https://localhost:8080/",
          "height": 17
        },
        "id": "chwuTig9-IK_",
        "outputId": "af0120ad-b4ea-4fae-d61e-75a06e1d85e9"
      },
      "outputs": [
        {
          "output_type": "display_data",
          "data": {
            "text/plain": [
              "<IPython.core.display.Javascript object>"
            ],
            "application/javascript": [
              "\n",
              "    async function download(id, filename, size) {\n",
              "      if (!google.colab.kernel.accessAllowed) {\n",
              "        return;\n",
              "      }\n",
              "      const div = document.createElement('div');\n",
              "      const label = document.createElement('label');\n",
              "      label.textContent = `Downloading \"${filename}\": `;\n",
              "      div.appendChild(label);\n",
              "      const progress = document.createElement('progress');\n",
              "      progress.max = size;\n",
              "      div.appendChild(progress);\n",
              "      document.body.appendChild(div);\n",
              "\n",
              "      const buffers = [];\n",
              "      let downloaded = 0;\n",
              "\n",
              "      const channel = await google.colab.kernel.comms.open(id);\n",
              "      // Send a message to notify the kernel that we're ready.\n",
              "      channel.send({})\n",
              "\n",
              "      for await (const message of channel.messages) {\n",
              "        // Send a message to notify the kernel that we're ready.\n",
              "        channel.send({})\n",
              "        if (message.buffers) {\n",
              "          for (const buffer of message.buffers) {\n",
              "            buffers.push(buffer);\n",
              "            downloaded += buffer.byteLength;\n",
              "            progress.value = downloaded;\n",
              "          }\n",
              "        }\n",
              "      }\n",
              "      const blob = new Blob(buffers, {type: 'application/binary'});\n",
              "      const a = document.createElement('a');\n",
              "      a.href = window.URL.createObjectURL(blob);\n",
              "      a.download = filename;\n",
              "      div.appendChild(a);\n",
              "      a.click();\n",
              "      div.remove();\n",
              "    }\n",
              "  "
            ]
          },
          "metadata": {}
        },
        {
          "output_type": "display_data",
          "data": {
            "text/plain": [
              "<IPython.core.display.Javascript object>"
            ],
            "application/javascript": [
              "download(\"download_9fd0301c-2762-42f3-ac80-65e1f7e82fd3\", \"Feature_eng.csv\", 1811972)"
            ]
          },
          "metadata": {}
        }
      ],
      "source": [
        "df.to_csv('Feature_eng.csv', index=False)\n",
        "files.download('Feature_eng.csv')"
      ]
    },
    {
      "cell_type": "markdown",
      "source": [
        "# Splitting 70% train, 15% validation, 15% testing"
      ],
      "metadata": {
        "id": "8MvBzX7vWmzp"
      }
    },
    {
      "cell_type": "code",
      "source": [
        "# Load the data\n",
        "df = pd.read_csv('Feature_eng.csv')\n",
        "\n",
        "df = df.drop('STATUS', axis=1)\n",
        "\n",
        "# Define features and target\n",
        "X = df.drop(columns=['status_mapped'])  # Features (all columns except target)\n",
        "y = df['status_mapped']                # Target (label)\n",
        "\n",
        "# Split the data into 70% training and 30% remaining (for validation + testing)\n",
        "X_train, X_temp, y_train, y_temp = train_test_split(X, y, test_size=0.3, stratify=y, random_state=42)\n",
        "\n",
        "# Split the remaining 30% into 15% validation and 15% testing\n",
        "X_val, X_test, y_val, y_test = train_test_split(X_temp, y_temp, test_size=0.5, stratify=y_temp, random_state=42)\n",
        "\n",
        "# Save the splits as CSV files (if needed, combine X and y for each split)\n",
        "train_df = pd.concat([X_train, y_train], axis=1)\n",
        "val_df = pd.concat([X_val, y_val], axis=1)\n",
        "test_df = pd.concat([X_test, y_test], axis=1)\n",
        "\n",
        "train_df.to_csv('train.csv', index=False)\n",
        "val_df.to_csv('validation.csv', index=False)\n",
        "test_df.to_csv('test.csv', index=False)\n",
        "\n",
        "print(\"Datasets saved successfully:\")\n",
        "print(f\"Train set: {train_df.shape}\")\n",
        "print(f\"Validation set: {val_df.shape}\")\n",
        "print(f\"Test set: {test_df.shape}\")\n",
        "\n",
        "files.download('train.csv')\n",
        "files.download('validation.csv')\n",
        "files.download('test.csv')"
      ],
      "metadata": {
        "id": "JZUuN_UYW5xk",
        "outputId": "b1d72fe8-c50f-4429-b14f-1d6269f2c599",
        "colab": {
          "base_uri": "https://localhost:8080/",
          "height": 88
        }
      },
      "execution_count": 13,
      "outputs": [
        {
          "output_type": "stream",
          "name": "stdout",
          "text": [
            "Datasets saved successfully:\n",
            "Train set: (22522, 19)\n",
            "Validation set: (4826, 19)\n",
            "Test set: (4827, 19)\n"
          ]
        },
        {
          "output_type": "display_data",
          "data": {
            "text/plain": [
              "<IPython.core.display.Javascript object>"
            ],
            "application/javascript": [
              "\n",
              "    async function download(id, filename, size) {\n",
              "      if (!google.colab.kernel.accessAllowed) {\n",
              "        return;\n",
              "      }\n",
              "      const div = document.createElement('div');\n",
              "      const label = document.createElement('label');\n",
              "      label.textContent = `Downloading \"${filename}\": `;\n",
              "      div.appendChild(label);\n",
              "      const progress = document.createElement('progress');\n",
              "      progress.max = size;\n",
              "      div.appendChild(progress);\n",
              "      document.body.appendChild(div);\n",
              "\n",
              "      const buffers = [];\n",
              "      let downloaded = 0;\n",
              "\n",
              "      const channel = await google.colab.kernel.comms.open(id);\n",
              "      // Send a message to notify the kernel that we're ready.\n",
              "      channel.send({})\n",
              "\n",
              "      for await (const message of channel.messages) {\n",
              "        // Send a message to notify the kernel that we're ready.\n",
              "        channel.send({})\n",
              "        if (message.buffers) {\n",
              "          for (const buffer of message.buffers) {\n",
              "            buffers.push(buffer);\n",
              "            downloaded += buffer.byteLength;\n",
              "            progress.value = downloaded;\n",
              "          }\n",
              "        }\n",
              "      }\n",
              "      const blob = new Blob(buffers, {type: 'application/binary'});\n",
              "      const a = document.createElement('a');\n",
              "      a.href = window.URL.createObjectURL(blob);\n",
              "      a.download = filename;\n",
              "      div.appendChild(a);\n",
              "      a.click();\n",
              "      div.remove();\n",
              "    }\n",
              "  "
            ]
          },
          "metadata": {}
        },
        {
          "output_type": "display_data",
          "data": {
            "text/plain": [
              "<IPython.core.display.Javascript object>"
            ],
            "application/javascript": [
              "download(\"download_dedb8a31-879b-41ca-ad5a-c8ac258a1ae8\", \"train.csv\", 1223295)"
            ]
          },
          "metadata": {}
        },
        {
          "output_type": "display_data",
          "data": {
            "text/plain": [
              "<IPython.core.display.Javascript object>"
            ],
            "application/javascript": [
              "\n",
              "    async function download(id, filename, size) {\n",
              "      if (!google.colab.kernel.accessAllowed) {\n",
              "        return;\n",
              "      }\n",
              "      const div = document.createElement('div');\n",
              "      const label = document.createElement('label');\n",
              "      label.textContent = `Downloading \"${filename}\": `;\n",
              "      div.appendChild(label);\n",
              "      const progress = document.createElement('progress');\n",
              "      progress.max = size;\n",
              "      div.appendChild(progress);\n",
              "      document.body.appendChild(div);\n",
              "\n",
              "      const buffers = [];\n",
              "      let downloaded = 0;\n",
              "\n",
              "      const channel = await google.colab.kernel.comms.open(id);\n",
              "      // Send a message to notify the kernel that we're ready.\n",
              "      channel.send({})\n",
              "\n",
              "      for await (const message of channel.messages) {\n",
              "        // Send a message to notify the kernel that we're ready.\n",
              "        channel.send({})\n",
              "        if (message.buffers) {\n",
              "          for (const buffer of message.buffers) {\n",
              "            buffers.push(buffer);\n",
              "            downloaded += buffer.byteLength;\n",
              "            progress.value = downloaded;\n",
              "          }\n",
              "        }\n",
              "      }\n",
              "      const blob = new Blob(buffers, {type: 'application/binary'});\n",
              "      const a = document.createElement('a');\n",
              "      a.href = window.URL.createObjectURL(blob);\n",
              "      a.download = filename;\n",
              "      div.appendChild(a);\n",
              "      a.click();\n",
              "      div.remove();\n",
              "    }\n",
              "  "
            ]
          },
          "metadata": {}
        },
        {
          "output_type": "display_data",
          "data": {
            "text/plain": [
              "<IPython.core.display.Javascript object>"
            ],
            "application/javascript": [
              "download(\"download_34be5235-ee5c-4e63-8c2c-b5d4709bd481\", \"validation.csv\", 262501)"
            ]
          },
          "metadata": {}
        },
        {
          "output_type": "display_data",
          "data": {
            "text/plain": [
              "<IPython.core.display.Javascript object>"
            ],
            "application/javascript": [
              "\n",
              "    async function download(id, filename, size) {\n",
              "      if (!google.colab.kernel.accessAllowed) {\n",
              "        return;\n",
              "      }\n",
              "      const div = document.createElement('div');\n",
              "      const label = document.createElement('label');\n",
              "      label.textContent = `Downloading \"${filename}\": `;\n",
              "      div.appendChild(label);\n",
              "      const progress = document.createElement('progress');\n",
              "      progress.max = size;\n",
              "      div.appendChild(progress);\n",
              "      document.body.appendChild(div);\n",
              "\n",
              "      const buffers = [];\n",
              "      let downloaded = 0;\n",
              "\n",
              "      const channel = await google.colab.kernel.comms.open(id);\n",
              "      // Send a message to notify the kernel that we're ready.\n",
              "      channel.send({})\n",
              "\n",
              "      for await (const message of channel.messages) {\n",
              "        // Send a message to notify the kernel that we're ready.\n",
              "        channel.send({})\n",
              "        if (message.buffers) {\n",
              "          for (const buffer of message.buffers) {\n",
              "            buffers.push(buffer);\n",
              "            downloaded += buffer.byteLength;\n",
              "            progress.value = downloaded;\n",
              "          }\n",
              "        }\n",
              "      }\n",
              "      const blob = new Blob(buffers, {type: 'application/binary'});\n",
              "      const a = document.createElement('a');\n",
              "      a.href = window.URL.createObjectURL(blob);\n",
              "      a.download = filename;\n",
              "      div.appendChild(a);\n",
              "      a.click();\n",
              "      div.remove();\n",
              "    }\n",
              "  "
            ]
          },
          "metadata": {}
        },
        {
          "output_type": "display_data",
          "data": {
            "text/plain": [
              "<IPython.core.display.Javascript object>"
            ],
            "application/javascript": [
              "download(\"download_82882c5e-859d-4912-a6c5-51584296f9dd\", \"test.csv\", 262355)"
            ]
          },
          "metadata": {}
        }
      ]
    },
    {
      "cell_type": "markdown",
      "metadata": {
        "id": "CW0ynzkPiTex"
      },
      "source": [
        "# Feature Scaling"
      ]
    },
    {
      "cell_type": "code",
      "execution_count": 15,
      "metadata": {
        "id": "u7n6nu6octNY",
        "outputId": "0a56f100-0730-44af-8854-38a1c2827735",
        "colab": {
          "base_uri": "https://localhost:8080/",
          "height": 88
        }
      },
      "outputs": [
        {
          "output_type": "stream",
          "name": "stdout",
          "text": [
            "Scaled datasets saved successfully:\n",
            "Train set: (22522, 19)\n",
            "Validation set: (4826, 19)\n",
            "Test set: (4827, 19)\n"
          ]
        },
        {
          "output_type": "display_data",
          "data": {
            "text/plain": [
              "<IPython.core.display.Javascript object>"
            ],
            "application/javascript": [
              "\n",
              "    async function download(id, filename, size) {\n",
              "      if (!google.colab.kernel.accessAllowed) {\n",
              "        return;\n",
              "      }\n",
              "      const div = document.createElement('div');\n",
              "      const label = document.createElement('label');\n",
              "      label.textContent = `Downloading \"${filename}\": `;\n",
              "      div.appendChild(label);\n",
              "      const progress = document.createElement('progress');\n",
              "      progress.max = size;\n",
              "      div.appendChild(progress);\n",
              "      document.body.appendChild(div);\n",
              "\n",
              "      const buffers = [];\n",
              "      let downloaded = 0;\n",
              "\n",
              "      const channel = await google.colab.kernel.comms.open(id);\n",
              "      // Send a message to notify the kernel that we're ready.\n",
              "      channel.send({})\n",
              "\n",
              "      for await (const message of channel.messages) {\n",
              "        // Send a message to notify the kernel that we're ready.\n",
              "        channel.send({})\n",
              "        if (message.buffers) {\n",
              "          for (const buffer of message.buffers) {\n",
              "            buffers.push(buffer);\n",
              "            downloaded += buffer.byteLength;\n",
              "            progress.value = downloaded;\n",
              "          }\n",
              "        }\n",
              "      }\n",
              "      const blob = new Blob(buffers, {type: 'application/binary'});\n",
              "      const a = document.createElement('a');\n",
              "      a.href = window.URL.createObjectURL(blob);\n",
              "      a.download = filename;\n",
              "      div.appendChild(a);\n",
              "      a.click();\n",
              "      div.remove();\n",
              "    }\n",
              "  "
            ]
          },
          "metadata": {}
        },
        {
          "output_type": "display_data",
          "data": {
            "text/plain": [
              "<IPython.core.display.Javascript object>"
            ],
            "application/javascript": [
              "download(\"download_d74a3f26-297e-4f17-89cd-b889b70a5580\", \"train_scaled.csv\", 3760170)"
            ]
          },
          "metadata": {}
        },
        {
          "output_type": "display_data",
          "data": {
            "text/plain": [
              "<IPython.core.display.Javascript object>"
            ],
            "application/javascript": [
              "\n",
              "    async function download(id, filename, size) {\n",
              "      if (!google.colab.kernel.accessAllowed) {\n",
              "        return;\n",
              "      }\n",
              "      const div = document.createElement('div');\n",
              "      const label = document.createElement('label');\n",
              "      label.textContent = `Downloading \"${filename}\": `;\n",
              "      div.appendChild(label);\n",
              "      const progress = document.createElement('progress');\n",
              "      progress.max = size;\n",
              "      div.appendChild(progress);\n",
              "      document.body.appendChild(div);\n",
              "\n",
              "      const buffers = [];\n",
              "      let downloaded = 0;\n",
              "\n",
              "      const channel = await google.colab.kernel.comms.open(id);\n",
              "      // Send a message to notify the kernel that we're ready.\n",
              "      channel.send({})\n",
              "\n",
              "      for await (const message of channel.messages) {\n",
              "        // Send a message to notify the kernel that we're ready.\n",
              "        channel.send({})\n",
              "        if (message.buffers) {\n",
              "          for (const buffer of message.buffers) {\n",
              "            buffers.push(buffer);\n",
              "            downloaded += buffer.byteLength;\n",
              "            progress.value = downloaded;\n",
              "          }\n",
              "        }\n",
              "      }\n",
              "      const blob = new Blob(buffers, {type: 'application/binary'});\n",
              "      const a = document.createElement('a');\n",
              "      a.href = window.URL.createObjectURL(blob);\n",
              "      a.download = filename;\n",
              "      div.appendChild(a);\n",
              "      a.click();\n",
              "      div.remove();\n",
              "    }\n",
              "  "
            ]
          },
          "metadata": {}
        },
        {
          "output_type": "display_data",
          "data": {
            "text/plain": [
              "<IPython.core.display.Javascript object>"
            ],
            "application/javascript": [
              "download(\"download_2951d4d5-6964-4ebd-861d-d1e9ce47066d\", \"validation_scaled.csv\", 805515)"
            ]
          },
          "metadata": {}
        },
        {
          "output_type": "display_data",
          "data": {
            "text/plain": [
              "<IPython.core.display.Javascript object>"
            ],
            "application/javascript": [
              "\n",
              "    async function download(id, filename, size) {\n",
              "      if (!google.colab.kernel.accessAllowed) {\n",
              "        return;\n",
              "      }\n",
              "      const div = document.createElement('div');\n",
              "      const label = document.createElement('label');\n",
              "      label.textContent = `Downloading \"${filename}\": `;\n",
              "      div.appendChild(label);\n",
              "      const progress = document.createElement('progress');\n",
              "      progress.max = size;\n",
              "      div.appendChild(progress);\n",
              "      document.body.appendChild(div);\n",
              "\n",
              "      const buffers = [];\n",
              "      let downloaded = 0;\n",
              "\n",
              "      const channel = await google.colab.kernel.comms.open(id);\n",
              "      // Send a message to notify the kernel that we're ready.\n",
              "      channel.send({})\n",
              "\n",
              "      for await (const message of channel.messages) {\n",
              "        // Send a message to notify the kernel that we're ready.\n",
              "        channel.send({})\n",
              "        if (message.buffers) {\n",
              "          for (const buffer of message.buffers) {\n",
              "            buffers.push(buffer);\n",
              "            downloaded += buffer.byteLength;\n",
              "            progress.value = downloaded;\n",
              "          }\n",
              "        }\n",
              "      }\n",
              "      const blob = new Blob(buffers, {type: 'application/binary'});\n",
              "      const a = document.createElement('a');\n",
              "      a.href = window.URL.createObjectURL(blob);\n",
              "      a.download = filename;\n",
              "      div.appendChild(a);\n",
              "      a.click();\n",
              "      div.remove();\n",
              "    }\n",
              "  "
            ]
          },
          "metadata": {}
        },
        {
          "output_type": "display_data",
          "data": {
            "text/plain": [
              "<IPython.core.display.Javascript object>"
            ],
            "application/javascript": [
              "download(\"download_e3df8e64-931d-441b-9895-0e19e7cf23dd\", \"test_scaled.csv\", 804882)"
            ]
          },
          "metadata": {}
        }
      ],
      "source": [
        "from sklearn.preprocessing import MinMaxScaler\n",
        "\n",
        "# Load the previously saved datasets\n",
        "train_df = pd.read_csv('train.csv')\n",
        "val_df = pd.read_csv('validation.csv')\n",
        "test_df = pd.read_csv('test.csv')\n",
        "\n",
        "# Separate features and target\n",
        "X_train = train_df.drop(columns=['status_mapped'])\n",
        "y_train = train_df['status_mapped']\n",
        "\n",
        "X_val = val_df.drop(columns=['status_mapped'])\n",
        "y_val = val_df['status_mapped']\n",
        "\n",
        "X_test = test_df.drop(columns=['status_mapped'])\n",
        "y_test = test_df['status_mapped']\n",
        "\n",
        "# Apply MinMaxScaler to scale features\n",
        "scaler = MinMaxScaler()\n",
        "\n",
        "# Fit the scaler on the training data and transform all splits\n",
        "X_train_scaled = scaler.fit_transform(X_train)\n",
        "X_val_scaled = scaler.transform(X_val)\n",
        "X_test_scaled = scaler.transform(X_test)\n",
        "\n",
        "# Optionally, convert scaled arrays back to DataFrames\n",
        "X_train_scaled = pd.DataFrame(X_train_scaled, columns=X_train.columns)\n",
        "X_val_scaled = pd.DataFrame(X_val_scaled, columns=X_val.columns)\n",
        "X_test_scaled = pd.DataFrame(X_test_scaled, columns=X_test.columns)\n",
        "\n",
        "# Combine scaled features with targets for each split\n",
        "train_scaled_df = pd.concat([X_train_scaled, y_train.reset_index(drop=True)], axis=1)\n",
        "val_scaled_df = pd.concat([X_val_scaled, y_val.reset_index(drop=True)], axis=1)\n",
        "test_scaled_df = pd.concat([X_test_scaled, y_test.reset_index(drop=True)], axis=1)\n",
        "\n",
        "# Save the scaled datasets as CSV files\n",
        "train_scaled_df.to_csv('train_scaled.csv', index=False)\n",
        "val_scaled_df.to_csv('validation_scaled.csv', index=False)\n",
        "test_scaled_df.to_csv('test_scaled.csv', index=False)\n",
        "\n",
        "print(\"Scaled datasets saved successfully:\")\n",
        "print(f\"Train set: {train_scaled_df.shape}\")\n",
        "print(f\"Validation set: {val_scaled_df.shape}\")\n",
        "print(f\"Test set: {test_scaled_df.shape}\")\n",
        "\n",
        "\n",
        "files.download('train_scaled.csv')\n",
        "files.download('validation_scaled.csv')\n",
        "files.download('test_scaled.csv')"
      ]
    },
    {
      "cell_type": "code",
      "source": [
        "# testing to see if features have been scaled\n",
        "print(\"Scaled Training Data:\")\n",
        "print(\"Min values:\\n\", X_train_scaled.min(axis=0))\n",
        "print(\"Max values:\\n\", X_train_scaled.max(axis=0))\n",
        "\n",
        "print(\"\\nScaled Validation Data:\")\n",
        "print(\"Min values:\\n\", X_val_scaled.min(axis=0))\n",
        "print(\"Max values:\\n\", X_val_scaled.max(axis=0))\n",
        "\n",
        "print(\"\\nScaled Test Data:\")\n",
        "print(\"Min values:\\n\", X_test_scaled.min(axis=0))\n",
        "print(\"Max values:\\n\", X_test_scaled.max(axis=0))\n"
      ],
      "metadata": {
        "id": "FC_jjwJmgt1T",
        "outputId": "18d5d12d-bbfc-43d4-d48b-56939f6e231b",
        "colab": {
          "base_uri": "https://localhost:8080/"
        }
      },
      "execution_count": 16,
      "outputs": [
        {
          "output_type": "stream",
          "name": "stdout",
          "text": [
            "Scaled Training Data:\n",
            "Min values:\n",
            " ID                     0.0\n",
            "CODE_GENDER            0.0\n",
            "FLAG_OWN_CAR           0.0\n",
            "FLAG_OWN_REALTY        0.0\n",
            "CNT_CHILDREN           0.0\n",
            "AMT_INCOME_TOTAL       0.0\n",
            "NAME_INCOME_TYPE       0.0\n",
            "NAME_EDUCATION_TYPE    0.0\n",
            "NAME_FAMILY_STATUS     0.0\n",
            "NAME_HOUSING_TYPE      0.0\n",
            "FLAG_MOBIL             0.0\n",
            "FLAG_WORK_PHONE        0.0\n",
            "FLAG_PHONE             0.0\n",
            "FLAG_EMAIL             0.0\n",
            "OCCUPATION_TYPE        0.0\n",
            "CNT_FAM_MEMBERS        0.0\n",
            "AGE_YEARS              0.0\n",
            "YEARS_EMPLOYED         0.0\n",
            "dtype: float64\n",
            "Max values:\n",
            " ID                     1.0\n",
            "CODE_GENDER            1.0\n",
            "FLAG_OWN_CAR           1.0\n",
            "FLAG_OWN_REALTY        1.0\n",
            "CNT_CHILDREN           1.0\n",
            "AMT_INCOME_TOTAL       1.0\n",
            "NAME_INCOME_TYPE       1.0\n",
            "NAME_EDUCATION_TYPE    1.0\n",
            "NAME_FAMILY_STATUS     1.0\n",
            "NAME_HOUSING_TYPE      1.0\n",
            "FLAG_MOBIL             0.0\n",
            "FLAG_WORK_PHONE        1.0\n",
            "FLAG_PHONE             1.0\n",
            "FLAG_EMAIL             1.0\n",
            "OCCUPATION_TYPE        1.0\n",
            "CNT_FAM_MEMBERS        1.0\n",
            "AGE_YEARS              1.0\n",
            "YEARS_EMPLOYED         1.0\n",
            "dtype: float64\n",
            "\n",
            "Scaled Validation Data:\n",
            "Min values:\n",
            " ID                     0.000014\n",
            "CODE_GENDER            0.000000\n",
            "FLAG_OWN_CAR           0.000000\n",
            "FLAG_OWN_REALTY        0.000000\n",
            "CNT_CHILDREN           0.000000\n",
            "AMT_INCOME_TOTAL       0.002312\n",
            "NAME_INCOME_TYPE       0.000000\n",
            "NAME_EDUCATION_TYPE    0.000000\n",
            "NAME_FAMILY_STATUS     0.000000\n",
            "NAME_HOUSING_TYPE      0.000000\n",
            "FLAG_MOBIL             0.000000\n",
            "FLAG_WORK_PHONE        0.000000\n",
            "FLAG_PHONE             0.000000\n",
            "FLAG_EMAIL             0.000000\n",
            "OCCUPATION_TYPE        0.000000\n",
            "CNT_FAM_MEMBERS        0.000000\n",
            "AGE_YEARS              0.020833\n",
            "YEARS_EMPLOYED         0.000000\n",
            "dtype: float64\n",
            "Max values:\n",
            " ID                     0.999972\n",
            "CODE_GENDER            1.000000\n",
            "FLAG_OWN_CAR           1.000000\n",
            "FLAG_OWN_REALTY        1.000000\n",
            "CNT_CHILDREN           0.357143\n",
            "AMT_INCOME_TOTAL       1.000000\n",
            "NAME_INCOME_TYPE       1.000000\n",
            "NAME_EDUCATION_TYPE    1.000000\n",
            "NAME_FAMILY_STATUS     1.000000\n",
            "NAME_HOUSING_TYPE      1.000000\n",
            "FLAG_MOBIL             0.000000\n",
            "FLAG_WORK_PHONE        1.000000\n",
            "FLAG_PHONE             1.000000\n",
            "FLAG_EMAIL             1.000000\n",
            "OCCUPATION_TYPE        1.000000\n",
            "CNT_FAM_MEMBERS        0.357143\n",
            "AGE_YEARS              1.000000\n",
            "YEARS_EMPLOYED         1.023810\n",
            "dtype: float64\n",
            "\n",
            "Scaled Test Data:\n",
            "Min values:\n",
            " ID                     0.000007\n",
            "CODE_GENDER            0.000000\n",
            "FLAG_OWN_CAR           0.000000\n",
            "FLAG_OWN_REALTY        0.000000\n",
            "CNT_CHILDREN           0.000000\n",
            "AMT_INCOME_TOTAL       0.004625\n",
            "NAME_INCOME_TYPE       0.000000\n",
            "NAME_EDUCATION_TYPE    0.000000\n",
            "NAME_FAMILY_STATUS     0.000000\n",
            "NAME_HOUSING_TYPE      0.000000\n",
            "FLAG_MOBIL             0.000000\n",
            "FLAG_WORK_PHONE        0.000000\n",
            "FLAG_PHONE             0.000000\n",
            "FLAG_EMAIL             0.000000\n",
            "OCCUPATION_TYPE        0.000000\n",
            "CNT_FAM_MEMBERS        0.000000\n",
            "AGE_YEARS              0.041667\n",
            "YEARS_EMPLOYED         0.000000\n",
            "dtype: float64\n",
            "Max values:\n",
            " ID                     0.999951\n",
            "CODE_GENDER            1.000000\n",
            "FLAG_OWN_CAR           1.000000\n",
            "FLAG_OWN_REALTY        1.000000\n",
            "CNT_CHILDREN           1.000000\n",
            "AMT_INCOME_TOTAL       1.000000\n",
            "NAME_INCOME_TYPE       1.000000\n",
            "NAME_EDUCATION_TYPE    1.000000\n",
            "NAME_FAMILY_STATUS     1.000000\n",
            "NAME_HOUSING_TYPE      1.000000\n",
            "FLAG_MOBIL             0.000000\n",
            "FLAG_WORK_PHONE        1.000000\n",
            "FLAG_PHONE             1.000000\n",
            "FLAG_EMAIL             1.000000\n",
            "OCCUPATION_TYPE        1.000000\n",
            "CNT_FAM_MEMBERS        1.000000\n",
            "AGE_YEARS              1.000000\n",
            "YEARS_EMPLOYED         0.976190\n",
            "dtype: float64\n"
          ]
        }
      ]
    }
  ],
  "metadata": {
    "colab": {
      "provenance": [],
      "include_colab_link": true
    },
    "kernelspec": {
      "display_name": "Python 3",
      "name": "python3"
    },
    "language_info": {
      "codemirror_mode": {
        "name": "ipython",
        "version": 3
      },
      "file_extension": ".py",
      "mimetype": "text/x-python",
      "name": "python",
      "nbconvert_exporter": "python",
      "pygments_lexer": "ipython3",
      "version": "3.12.4"
    }
  },
  "nbformat": 4,
  "nbformat_minor": 0
}
{
  "nbformat": 4,
  "nbformat_minor": 0,
  "metadata": {
    "colab": {
      "provenance": [],
      "authorship_tag": "ABX9TyMcamWID0HwpWh4CqeKkAkA",
      "include_colab_link": true
    },
    "kernelspec": {
      "name": "python3",
      "display_name": "Python 3"
    },
    "language_info": {
      "name": "python"
    }
  },
  "cells": [
    {
      "cell_type": "markdown",
      "metadata": {
        "id": "view-in-github",
        "colab_type": "text"
      },
      "source": [
        "<a href=\"https://colab.research.google.com/github/shahdcode/Credit-Card-Approval-Prediction/blob/main/Evaluate.ipynb\" target=\"_parent\"><img src=\"https://colab.research.google.com/assets/colab-badge.svg\" alt=\"Open In Colab\"/></a>"
      ]
    },
    {
      "cell_type": "code",
      "execution_count": 1,
      "metadata": {
        "id": "XHOo2IMd_bkm"
      },
      "outputs": [],
      "source": [
        "from sklearn.metrics import accuracy_score\n",
        "\n",
        "def evaluate_classifiers(classifiers, X_test, y_test):\n",
        "    \"\"\"\n",
        "    Evaluates multiple hyperparameter-tuned classifiers on a test dataset using accuracy as the evaluation metric.\n",
        "\n",
        "    Args:\n",
        "        classifiers (dict): A dictionary where keys are classifier names and values are the tuned classifier instances.\n",
        "        X_test (array-like): Features of the test set.\n",
        "        y_test (array-like): True labels of the test set.\n",
        "\n",
        "    Returns:\n",
        "        dict: A dictionary with classifier names as keys and their respective accuracy as values.\n",
        "    \"\"\"\n",
        "    performance = {}\n",
        "    for name, clf in classifiers.items():\n",
        "        # Predict on the test set\n",
        "        y_pred = clf.predict(X_test)\n",
        "        # Calculate accuracy\n",
        "        accuracy = accuracy_score(y_test, y_pred)\n",
        "        performance[name] = accuracy\n",
        "\n",
        "    # Find the classifier with the best performance\n",
        "    best_classifier = max(performance, key=performance.get)\n",
        "\n",
        "    print(f\"The classifier with the best performance is: {best_classifier} with an accuracy of {performance[best_classifier]:.4f}\")\n",
        "    return performance\n"
      ]
    },
    {
      "cell_type": "code",
      "source": [
        "best_estimators = {\n",
        "    \"RandomForest\": best_estimators,\n",
        "    \"SVM\": best_params,\n",
        "    \"DecisionTree\": dt_best,\n",
        "    \"KNN\": best_k,\n",
        "    \"MLP\": mlp_best\n",
        "}\n",
        "# Assuming train_df, val_df, and test_df are already defined\n",
        "X_train, X_val, X_test, y_train, y_val, y_test = separate_features_targets(train_df, val_df, test_df)\n",
        "\n",
        "# Now you can use X_test and y_test for evaluation\n",
        "performance = evaluate_classifiers(best_estimators, X_test, y_test)\n",
        "\n",
        "# Print performance for each classifier\n",
        "for clf_name, acc in performance.items():\n",
        "    print(f\"{clf_name}: Accuracy = {acc:.4f}\")\n"
      ],
      "metadata": {
        "id": "ZwFI0YN7_ck0"
      },
      "execution_count": null,
      "outputs": []
    }
  ]
}